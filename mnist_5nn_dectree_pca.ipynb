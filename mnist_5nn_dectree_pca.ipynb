{
  "nbformat": 4,
  "nbformat_minor": 0,
  "metadata": {
    "colab": {
      "name": "Untitled2.ipynb",
      "provenance": [],
      "authorship_tag": "ABX9TyN17EtMZJS8pBxO61SPRrRF",
      "include_colab_link": true
    },
    "kernelspec": {
      "name": "python3",
      "display_name": "Python 3"
    }
  },
  "cells": [
    {
      "cell_type": "markdown",
      "metadata": {
        "id": "view-in-github",
        "colab_type": "text"
      },
      "source": [
        "<a href=\"https://colab.research.google.com/github/perceptronnn/shared_notebooks/blob/master/mnist_5nn_dectree_pca.ipynb\" target=\"_parent\"><img src=\"https://colab.research.google.com/assets/colab-badge.svg\" alt=\"Open In Colab\"/></a>"
      ]
    },
    {
      "cell_type": "markdown",
      "metadata": {
        "id": "O7KnJobLkmD0",
        "colab_type": "text"
      },
      "source": [
        "# Getting MNIST dataset\n",
        "Referred: https://pytorch.org/tutorials/beginner/nn_tutorial.html"
      ]
    },
    {
      "cell_type": "code",
      "metadata": {
        "id": "ctmHOx6c0Hj7",
        "colab_type": "code",
        "colab": {}
      },
      "source": [
        "from pathlib import Path\n",
        "import requests"
      ],
      "execution_count": 24,
      "outputs": []
    },
    {
      "cell_type": "code",
      "metadata": {
        "id": "-sPgcjxW6Pl4",
        "colab_type": "code",
        "colab": {}
      },
      "source": [
        "DATA_PATH = Path(\"data\")\n",
        "PATH = DATA_PATH / \"mnist\"\n",
        "\n",
        "PATH.mkdir(parents=True, exist_ok=True)"
      ],
      "execution_count": 25,
      "outputs": []
    },
    {
      "cell_type": "code",
      "metadata": {
        "id": "90QTQi3B6mBd",
        "colab_type": "code",
        "colab": {}
      },
      "source": [
        "URL = \"http://deeplearning.net/data/mnist/\"\n",
        "FILENAME = \"mnist.pkl.gz\""
      ],
      "execution_count": 3,
      "outputs": []
    },
    {
      "cell_type": "code",
      "metadata": {
        "id": "P2IKJKjj66rI",
        "colab_type": "code",
        "colab": {}
      },
      "source": [
        "if not (PATH / FILENAME).exists():\n",
        "        content = requests.get(URL + FILENAME).content\n",
        "        (PATH / FILENAME).open(\"wb\").write(content)"
      ],
      "execution_count": 4,
      "outputs": []
    },
    {
      "cell_type": "code",
      "metadata": {
        "id": "BxgqAhtj7Dsb",
        "colab_type": "code",
        "colab": {}
      },
      "source": [
        "import pickle\n",
        "import gzip\n",
        "\n",
        "with gzip.open((PATH / FILENAME).as_posix(), \"rb\") as f:\n",
        "        ((x_train, y_train), (x_valid, y_valid), _) = pickle.load(f, encoding=\"latin-1\")"
      ],
      "execution_count": 5,
      "outputs": []
    },
    {
      "cell_type": "code",
      "metadata": {
        "id": "BOw9nm1f7JeR",
        "colab_type": "code",
        "colab": {
          "base_uri": "https://localhost:8080/",
          "height": 36
        },
        "outputId": "0a27bbf8-03f0-48d8-9c37-6454d94ea3b4"
      },
      "source": [
        "x_train.shape, y_train.shape, x_valid.shape, y_valid.shape"
      ],
      "execution_count": 6,
      "outputs": [
        {
          "output_type": "execute_result",
          "data": {
            "text/plain": [
              "((50000, 784), (50000,), (10000, 784), (10000,))"
            ]
          },
          "metadata": {
            "tags": []
          },
          "execution_count": 6
        }
      ]
    },
    {
      "cell_type": "code",
      "metadata": {
        "id": "a3GjmA757TBB",
        "colab_type": "code",
        "colab": {
          "base_uri": "https://localhost:8080/",
          "height": 36
        },
        "outputId": "6f217772-96c9-458d-ea26-6965cde3582d"
      },
      "source": [
        "type(x_train)"
      ],
      "execution_count": 7,
      "outputs": [
        {
          "output_type": "execute_result",
          "data": {
            "text/plain": [
              "numpy.ndarray"
            ]
          },
          "metadata": {
            "tags": []
          },
          "execution_count": 7
        }
      ]
    },
    {
      "cell_type": "code",
      "metadata": {
        "id": "CVV7PHPh7q38",
        "colab_type": "code",
        "colab": {
          "base_uri": "https://localhost:8080/",
          "height": 36
        },
        "outputId": "a484ebf4-983c-43cd-8c04-71d399477b31"
      },
      "source": [
        "y_train[0:5]"
      ],
      "execution_count": 8,
      "outputs": [
        {
          "output_type": "execute_result",
          "data": {
            "text/plain": [
              "array([5, 0, 4, 1, 9])"
            ]
          },
          "metadata": {
            "tags": []
          },
          "execution_count": 8
        }
      ]
    },
    {
      "cell_type": "code",
      "metadata": {
        "id": "3rUOfSsrZNQd",
        "colab_type": "code",
        "colab": {}
      },
      "source": [
        "import numpy as np\n",
        "\n",
        "def get_accuracy(y_pred, y_actual = y_valid):\n",
        "  diff_count = np.count_nonzero(y_actual - y_pred)\n",
        "  return 100 - (diff_count * 100/ len(y_pred))"
      ],
      "execution_count": 31,
      "outputs": []
    },
    {
      "cell_type": "markdown",
      "metadata": {
        "id": "s078yCUDYvRc",
        "colab_type": "text"
      },
      "source": [
        "# 5-Nearest Neighbor\n"
      ]
    },
    {
      "cell_type": "code",
      "metadata": {
        "id": "CzxtJJgL79v8",
        "colab_type": "code",
        "colab": {}
      },
      "source": [
        "from sklearn import neighbors"
      ],
      "execution_count": 11,
      "outputs": []
    },
    {
      "cell_type": "code",
      "metadata": {
        "id": "bxWJUJWf8dzV",
        "colab_type": "code",
        "colab": {
          "base_uri": "https://localhost:8080/",
          "height": 55
        },
        "outputId": "c95239b5-80e5-44a4-e6b5-d769f5b4961b"
      },
      "source": [
        "%%time\n",
        "\n",
        "clf_5nn = neighbors.KNeighborsClassifier()\n",
        "clf_5nn.fit(x_train, y_train)"
      ],
      "execution_count": 12,
      "outputs": [
        {
          "output_type": "stream",
          "text": [
            "CPU times: user 25.2 s, sys: 161 ms, total: 25.3 s\n",
            "Wall time: 25.3 s\n"
          ],
          "name": "stdout"
        }
      ]
    },
    {
      "cell_type": "code",
      "metadata": {
        "id": "jA3mo8Y09CAO",
        "colab_type": "code",
        "colab": {
          "base_uri": "https://localhost:8080/",
          "height": 55
        },
        "outputId": "75546e4c-3f8c-426b-c092-5b80322b7624"
      },
      "source": [
        "%%time\n",
        "\n",
        "y_pred_5nn = clf_5nn.predict(x_valid)"
      ],
      "execution_count": 13,
      "outputs": [
        {
          "output_type": "stream",
          "text": [
            "CPU times: user 14min 25s, sys: 239 ms, total: 14min 25s\n",
            "Wall time: 14min 26s\n"
          ],
          "name": "stdout"
        }
      ]
    },
    {
      "cell_type": "code",
      "metadata": {
        "id": "imRXShblDB2q",
        "colab_type": "code",
        "colab": {
          "base_uri": "https://localhost:8080/",
          "height": 36
        },
        "outputId": "66c11d2d-437c-45c7-f06e-174741f07995"
      },
      "source": [
        "accuracy_5nn = get_accuracy(y_pred_5nn)\n",
        "print(accuracy_5nn)"
      ],
      "execution_count": 32,
      "outputs": [
        {
          "output_type": "stream",
          "text": [
            "97.18\n"
          ],
          "name": "stdout"
        }
      ]
    },
    {
      "cell_type": "markdown",
      "metadata": {
        "id": "oTtt6EokYpQc",
        "colab_type": "text"
      },
      "source": [
        "# Decision Tree"
      ]
    },
    {
      "cell_type": "code",
      "metadata": {
        "id": "juHA7we1DNeX",
        "colab_type": "code",
        "colab": {}
      },
      "source": [
        "from sklearn.tree import DecisionTreeClassifier"
      ],
      "execution_count": 15,
      "outputs": []
    },
    {
      "cell_type": "code",
      "metadata": {
        "id": "_Hkn7uh6IK5N",
        "colab_type": "code",
        "colab": {
          "base_uri": "https://localhost:8080/",
          "height": 55
        },
        "outputId": "df81ac27-23ca-4eb9-b7ea-fd733c0089b7"
      },
      "source": [
        "%%time\n",
        "\n",
        "clf_dt = DecisionTreeClassifier(random_state = 0)\n",
        "clf_dt.fit(x_train, y_train)"
      ],
      "execution_count": 16,
      "outputs": [
        {
          "output_type": "stream",
          "text": [
            "CPU times: user 23.2 s, sys: 2.99 ms, total: 23.2 s\n",
            "Wall time: 23.2 s\n"
          ],
          "name": "stdout"
        }
      ]
    },
    {
      "cell_type": "code",
      "metadata": {
        "id": "QBH1IHbnIeCr",
        "colab_type": "code",
        "colab": {
          "base_uri": "https://localhost:8080/",
          "height": 55
        },
        "outputId": "83966942-5f88-4d20-92db-c18d3aa94df4"
      },
      "source": [
        "%%time\n",
        "\n",
        "y_pred_dt = clf_dt.predict(x_valid)"
      ],
      "execution_count": 17,
      "outputs": [
        {
          "output_type": "stream",
          "text": [
            "CPU times: user 58.2 ms, sys: 0 ns, total: 58.2 ms\n",
            "Wall time: 62.8 ms\n"
          ],
          "name": "stdout"
        }
      ]
    },
    {
      "cell_type": "code",
      "metadata": {
        "id": "QJe5YEwXI8yd",
        "colab_type": "code",
        "colab": {
          "base_uri": "https://localhost:8080/",
          "height": 36
        },
        "outputId": "f1412754-46c1-4006-9b7c-69aad2586d18"
      },
      "source": [
        "accuracy_dt = get_accuracy(y_pred_dt)\n",
        "print(accuracy_dt)"
      ],
      "execution_count": 33,
      "outputs": [
        {
          "output_type": "stream",
          "text": [
            "88.11\n"
          ],
          "name": "stdout"
        }
      ]
    },
    {
      "cell_type": "markdown",
      "metadata": {
        "id": "41hiENaTabDL",
        "colab_type": "text"
      },
      "source": [
        "# PCA \n",
        "Referred https://towardsdatascience.com/pca-using-python-scikit-learn-e653f8989e60"
      ]
    },
    {
      "cell_type": "code",
      "metadata": {
        "id": "G60QcG5wac30",
        "colab_type": "code",
        "colab": {}
      },
      "source": [
        "from sklearn.decomposition import PCA"
      ],
      "execution_count": 19,
      "outputs": []
    },
    {
      "cell_type": "code",
      "metadata": {
        "id": "XVKBwxEuiw1B",
        "colab_type": "code",
        "colab": {}
      },
      "source": [
        "from sklearn.preprocessing import StandardScaler\n",
        "scaler = StandardScaler()"
      ],
      "execution_count": 40,
      "outputs": []
    },
    {
      "cell_type": "code",
      "metadata": {
        "id": "MLhiBagEiymK",
        "colab_type": "code",
        "colab": {
          "base_uri": "https://localhost:8080/",
          "height": 73
        },
        "outputId": "e49856da-453e-49b3-a71a-db461b6967ba"
      },
      "source": [
        "%%time \n",
        "\n",
        "scaler.fit(x_train)"
      ],
      "execution_count": 41,
      "outputs": [
        {
          "output_type": "stream",
          "text": [
            "CPU times: user 531 ms, sys: 4 ms, total: 535 ms\n",
            "Wall time: 539 ms\n"
          ],
          "name": "stdout"
        },
        {
          "output_type": "execute_result",
          "data": {
            "text/plain": [
              "StandardScaler(copy=True, with_mean=True, with_std=True)"
            ]
          },
          "metadata": {
            "tags": []
          },
          "execution_count": 41
        }
      ]
    },
    {
      "cell_type": "code",
      "metadata": {
        "id": "zfiK-SqDbOkF",
        "colab_type": "code",
        "colab": {
          "base_uri": "https://localhost:8080/",
          "height": 55
        },
        "outputId": "82f36449-1200-44a8-bd3a-521d7eb6ae31"
      },
      "source": [
        "%%time \n",
        "\n",
        "pca90 = PCA(.90)\n",
        "pca90.fit(x_train)\n",
        "\n",
        "pca95 = PCA(.95)\n",
        "pca95.fit(x_train)\n",
        "\n",
        "pca99 = PCA(.99)\n",
        "pca99.fit(x_train)"
      ],
      "execution_count": 51,
      "outputs": [
        {
          "output_type": "stream",
          "text": [
            "CPU times: user 30.7 s, sys: 1.64 s, total: 32.3 s\n",
            "Wall time: 17.4 s\n"
          ],
          "name": "stdout"
        }
      ]
    },
    {
      "cell_type": "code",
      "metadata": {
        "id": "KTsdfm6SjKw5",
        "colab_type": "code",
        "colab": {
          "base_uri": "https://localhost:8080/",
          "height": 73
        },
        "outputId": "c15ccd26-dc06-4d95-b5fd-31d31a40ae7e"
      },
      "source": [
        "print(len(pca90.explained_variance_ratio_))\n",
        "print(len(pca95.explained_variance_ratio_))\n",
        "print(len(pca99.explained_variance_ratio_))"
      ],
      "execution_count": 53,
      "outputs": [
        {
          "output_type": "stream",
          "text": [
            "87\n",
            "154\n",
            "331\n"
          ],
          "name": "stdout"
        }
      ]
    },
    {
      "cell_type": "code",
      "metadata": {
        "id": "ZIxKFRF-bTgY",
        "colab_type": "code",
        "colab": {
          "base_uri": "https://localhost:8080/",
          "height": 505
        },
        "outputId": "454ad0a3-89d2-445e-a896-0b2d8c5b6cbe"
      },
      "source": [
        "print(pca95.explained_variance_ratio_)"
      ],
      "execution_count": 54,
      "outputs": [
        {
          "output_type": "stream",
          "text": [
            "[0.09744383 0.07059848 0.06216133 0.05379485 0.04858056 0.04319614\n",
            " 0.03277574 0.02886385 0.02768836 0.02365931 0.0209952  0.02020407\n",
            " 0.01715791 0.01681795 0.01579267 0.01492753 0.01318167 0.01276553\n",
            " 0.01186514 0.0115102  0.01069107 0.01007499 0.00953629 0.00907861\n",
            " 0.00882788 0.0083695  0.00817541 0.00784796 0.00742014 0.00690706\n",
            " 0.00658563 0.00643653 0.00602719 0.00585303 0.00569431 0.00541853\n",
            " 0.00507309 0.00488394 0.00482054 0.0047335  0.00455972 0.00441411\n",
            " 0.00416428 0.00396221 0.00385332 0.00374064 0.00361329 0.00350469\n",
            " 0.0034027  0.00321046 0.00318202 0.00310987 0.00294572 0.00288291\n",
            " 0.00285743 0.00270759 0.00269223 0.00256373 0.00253896 0.00243535\n",
            " 0.00240497 0.00237759 0.0022913  0.0022173  0.00212807 0.00206764\n",
            " 0.00203552 0.00196812 0.00192869 0.00188608 0.00187148 0.0018114\n",
            " 0.00177256 0.00174636 0.00164976 0.00163645 0.0016148  0.00153505\n",
            " 0.00147434 0.00143104 0.00141426 0.00140905 0.00139826 0.00135518\n",
            " 0.00133949 0.00132057 0.00129865 0.00125902 0.00122278 0.00121112\n",
            " 0.00116709 0.00114418 0.00113496 0.00110591 0.00108787 0.00106929\n",
            " 0.00104107 0.00103594 0.00101138 0.00100724 0.00097971 0.00094616\n",
            " 0.00093955 0.00091271 0.00090846 0.00089573 0.0008658  0.00085221\n",
            " 0.00084385 0.00082615 0.00078895 0.00078387 0.00078084 0.00076934\n",
            " 0.00076452 0.00075249 0.00073872 0.0007306  0.00071858 0.00070607\n",
            " 0.00069589 0.00069012 0.00068329 0.0006708  0.00067015 0.00064563\n",
            " 0.00063651 0.00063377 0.00062238 0.00060797 0.00060185 0.00059834\n",
            " 0.00058911 0.00058458 0.00057937 0.00057817 0.00056713 0.00055385\n",
            " 0.00053549 0.00052601 0.00052322 0.00051257 0.00050619 0.0005033\n",
            " 0.00049881 0.00049331 0.00048574 0.00048231 0.00047594 0.00046891\n",
            " 0.00046598 0.0004647  0.00045685 0.00045084]\n"
          ],
          "name": "stdout"
        }
      ]
    },
    {
      "cell_type": "code",
      "metadata": {
        "id": "biBED8Y_gKj8",
        "colab_type": "code",
        "colab": {
          "base_uri": "https://localhost:8080/",
          "height": 505
        },
        "outputId": "89db2916-603b-4691-e912-b695bff204b3"
      },
      "source": [
        "print(pca95.explained_variance_ratio_.cumsum())"
      ],
      "execution_count": 55,
      "outputs": [
        {
          "output_type": "stream",
          "text": [
            "[0.09744383 0.1680423  0.23020363 0.2839985  0.33257905 0.3757752\n",
            " 0.40855092 0.43741477 0.46510312 0.48876244 0.50975764 0.5299617\n",
            " 0.5471196  0.56393754 0.5797302  0.5946577  0.6078394  0.62060493\n",
            " 0.6324701  0.64398026 0.6546713  0.6647463  0.67428255 0.6833612\n",
            " 0.69218904 0.70055854 0.708734   0.71658194 0.72400206 0.7309091\n",
            " 0.73749477 0.7439313  0.74995846 0.7558115  0.76150584 0.7669244\n",
            " 0.77199745 0.7768814  0.7817019  0.7864354  0.7909951  0.7954092\n",
            " 0.7995735  0.8035357  0.807389   0.8111297  0.814743   0.8182477\n",
            " 0.8216504  0.8248609  0.82804286 0.83115274 0.83409846 0.83698136\n",
            " 0.8398388  0.8425464  0.8452386  0.84780234 0.8503413  0.85277665\n",
            " 0.85518163 0.8575592  0.8598505  0.8620678  0.8641959  0.8662635\n",
            " 0.868299   0.87026715 0.87219584 0.8740819  0.8759534  0.87776476\n",
            " 0.87953734 0.8812837  0.88293344 0.8845699  0.8861847  0.88771975\n",
            " 0.8891941  0.8906251  0.89203936 0.8934484  0.8948467  0.89620185\n",
            " 0.89754134 0.89886194 0.9001606  0.90141964 0.9026424  0.90385354\n",
            " 0.9050206  0.90616477 0.90729976 0.90840566 0.9094935  0.9105628\n",
            " 0.91160387 0.9126398  0.91365117 0.9146584  0.91563815 0.9165843\n",
            " 0.91752386 0.9184366  0.919345   0.92024076 0.9211066  0.9219588\n",
            " 0.9228026  0.9236288  0.92441773 0.9252016  0.9259824  0.92675173\n",
            " 0.9275163  0.9282688  0.92900753 0.9297381  0.9304567  0.9311628\n",
            " 0.93185866 0.93254876 0.93323207 0.93390286 0.934573   0.93521863\n",
            " 0.93585515 0.9364889  0.9371113  0.9377193  0.9383211  0.9389194\n",
            " 0.93950856 0.94009316 0.9406725  0.9412507  0.9418178  0.94237167\n",
            " 0.94290715 0.94343317 0.9439564  0.9444689  0.9449751  0.9454784\n",
            " 0.9459772  0.9464705  0.9469562  0.94743854 0.9479145  0.9483834\n",
            " 0.9488494  0.94931406 0.9497709  0.9502218 ]\n"
          ],
          "name": "stdout"
        }
      ]
    }
  ]
}