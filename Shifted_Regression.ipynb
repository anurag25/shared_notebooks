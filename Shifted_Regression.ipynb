{
  "nbformat": 4,
  "nbformat_minor": 0,
  "metadata": {
    "colab": {
      "name": "Shifted Regression.ipynb",
      "provenance": [],
      "collapsed_sections": [],
      "authorship_tag": "ABX9TyOpmqQeiVsh+TP9e/rEQ40R",
      "include_colab_link": true
    },
    "kernelspec": {
      "name": "python3",
      "display_name": "Python 3"
    }
  },
  "cells": [
    {
      "cell_type": "markdown",
      "metadata": {
        "id": "view-in-github",
        "colab_type": "text"
      },
      "source": [
        "<a href=\"https://colab.research.google.com/github/perceptronnn/shared_notebooks/blob/master/Shifted_Regression.ipynb\" target=\"_parent\"><img src=\"https://colab.research.google.com/assets/colab-badge.svg\" alt=\"Open In Colab\"/></a>"
      ]
    },
    {
      "cell_type": "markdown",
      "metadata": {
        "id": "eVlQBbhGP3K2",
        "colab_type": "text"
      },
      "source": [
        "Reference: https://github.com/fastai/course-v3/blob/master/nbs/dl1/lesson2-sgd.ipynb"
      ]
    },
    {
      "cell_type": "code",
      "metadata": {
        "id": "lN7qI1RwJRML",
        "colab_type": "code",
        "colab": {}
      },
      "source": [
        "%matplotlib inline"
      ],
      "execution_count": 0,
      "outputs": []
    },
    {
      "cell_type": "code",
      "metadata": {
        "id": "YF_KKoapJ45e",
        "colab_type": "code",
        "colab": {
          "base_uri": "https://localhost:8080/",
          "height": 75
        },
        "outputId": "ac5ede9d-fac4-44dd-8ffd-99209609b364"
      },
      "source": [
        "from fastai.basics import *\n",
        "import seaborn as sns\n",
        "sns.set_style(\"darkgrid\")\n",
        "sns.set_context(\"talk\")"
      ],
      "execution_count": 2,
      "outputs": [
        {
          "output_type": "stream",
          "text": [
            "/usr/local/lib/python3.6/dist-packages/statsmodels/tools/_testing.py:19: FutureWarning: pandas.util.testing is deprecated. Use the functions in the public API at pandas.testing instead.\n",
            "  import pandas.util.testing as tm\n"
          ],
          "name": "stderr"
        }
      ]
    },
    {
      "cell_type": "code",
      "metadata": {
        "id": "FzB7f2xbKBRB",
        "colab_type": "code",
        "colab": {}
      },
      "source": [
        "# number of examples in the training set\n",
        "\n",
        "n = 100"
      ],
      "execution_count": 0,
      "outputs": []
    },
    {
      "cell_type": "code",
      "metadata": {
        "id": "HhL-bAjIMHB3",
        "colab_type": "code",
        "colab": {
          "base_uri": "https://localhost:8080/",
          "height": 111
        },
        "outputId": "2d38ea86-b70b-43e6-f763-995670c5008c"
      },
      "source": [
        "# x contains input points\n",
        "# y = w * x_ + b * 1 so x = [x_, 1] \n",
        "\n",
        "x = torch.ones(n, 2)\n",
        "x[:, 0].uniform_(-1, 1)\n",
        "x[:5]"
      ],
      "execution_count": 5,
      "outputs": [
        {
          "output_type": "execute_result",
          "data": {
            "text/plain": [
              "tensor([[ 0.4914,  1.0000],\n",
              "        [-0.9606,  1.0000],\n",
              "        [ 0.4582,  1.0000],\n",
              "        [-0.8553,  1.0000],\n",
              "        [ 0.2862,  1.0000]])"
            ]
          },
          "metadata": {
            "tags": []
          },
          "execution_count": 5
        }
      ]
    },
    {
      "cell_type": "code",
      "metadata": {
        "id": "HFgeQmtBMIi-",
        "colab_type": "code",
        "colab": {
          "base_uri": "https://localhost:8080/",
          "height": 36
        },
        "outputId": "d1b804ae-70df-469c-c545-bebff351ad3a"
      },
      "source": [
        "# a is weight vector [w, b] \n",
        "\n",
        "a = tensor(3., 2); a"
      ],
      "execution_count": 6,
      "outputs": [
        {
          "output_type": "execute_result",
          "data": {
            "text/plain": [
              "tensor([3., 2.])"
            ]
          },
          "metadata": {
            "tags": []
          },
          "execution_count": 6
        }
      ]
    },
    {
      "cell_type": "code",
      "metadata": {
        "id": "9n5Tiz_cMMNv",
        "colab_type": "code",
        "colab": {
          "base_uri": "https://localhost:8080/",
          "height": 36
        },
        "outputId": "dfc99dc7-59bc-43bd-d084-d8b05c7b8502"
      },
      "source": [
        "# randomizing the actual labels around the line y = 3 * x + 2\n",
        "\n",
        "y = x @ a + torch.rand(n)\n",
        "y[:5]"
      ],
      "execution_count": 7,
      "outputs": [
        {
          "output_type": "execute_result",
          "data": {
            "text/plain": [
              "tensor([ 4.3223,  0.0532,  3.5111, -0.4749,  3.2897])"
            ]
          },
          "metadata": {
            "tags": []
          },
          "execution_count": 7
        }
      ]
    },
    {
      "cell_type": "code",
      "metadata": {
        "id": "xT-Q23kYMPud",
        "colab_type": "code",
        "colab": {
          "base_uri": "https://localhost:8080/",
          "height": 298
        },
        "outputId": "1b5e4c50-cfb9-4be5-a042-ad34e74ff662"
      },
      "source": [
        "# plot training data\n",
        "\n",
        "plt.scatter(x[:, 0], y, marker = '.')"
      ],
      "execution_count": 8,
      "outputs": [
        {
          "output_type": "execute_result",
          "data": {
            "text/plain": [
              "<matplotlib.collections.PathCollection at 0x7fae84c36ba8>"
            ]
          },
          "metadata": {
            "tags": []
          },
          "execution_count": 8
        },
        {
          "output_type": "display_data",
          "data": {
            "image/png": "[encoded data removed]",
            "text/plain": [
              "<Figure size 432x288 with 1 Axes>"
            ]
          },
          "metadata": {
            "tags": []
          }
        }
      ]
    },
    {
      "cell_type": "code",
      "metadata": {
        "id": "OTSyMCBeNZxX",
        "colab_type": "code",
        "colab": {}
      },
      "source": [
        "# defining loss function - Mean Squared Error\n",
        "\n",
        "def mse(y_hat, y): \n",
        "  return ((y_hat - y)**2).mean()"
      ],
      "execution_count": 0,
      "outputs": []
    },
    {
      "cell_type": "code",
      "metadata": {
        "id": "4abvbj25MpoB",
        "colab_type": "code",
        "colab": {
          "base_uri": "https://localhost:8080/",
          "height": 36
        },
        "outputId": "e1dc6578-56ad-4b1e-e944-a0aecdf1aea3"
      },
      "source": [
        "# starting with initial weights [-1, 1]\n",
        "\n",
        "a = tensor(-1., 1)\n",
        "y_hat = x @ a\n",
        "mse(y_hat, y)"
      ],
      "execution_count": 10,
      "outputs": [
        {
          "output_type": "execute_result",
          "data": {
            "text/plain": [
              "tensor(7.2054)"
            ]
          },
          "metadata": {
            "tags": []
          },
          "execution_count": 10
        }
      ]
    },
    {
      "cell_type": "code",
      "metadata": {
        "id": "9_67e_ILMiZ3",
        "colab_type": "code",
        "colab": {
          "base_uri": "https://localhost:8080/",
          "height": 298
        },
        "outputId": "e279e198-09c9-4f64-9465-c4aebb06fee6"
      },
      "source": [
        "# plotting training data and initial regression line together\n",
        "\n",
        "plt.scatter(x[:, 0], y, marker = '.')\n",
        "plt.scatter(x[:, 0], y_hat, marker = '.')"
      ],
      "execution_count": 11,
      "outputs": [
        {
          "output_type": "execute_result",
          "data": {
            "text/plain": [
              "<matplotlib.collections.PathCollection at 0x7fae81f77a90>"
            ]
          },
          "metadata": {
            "tags": []
          },
          "execution_count": 11
        },
        {
          "output_type": "display_data",
          "data": {
            "image/png": "[encoded data removed]",
            "text/plain": [
              "<Figure size 432x288 with 1 Axes>"
            ]
          },
          "metadata": {
            "tags": []
          }
        }
      ]
    },
    {
      "cell_type": "code",
      "metadata": {
        "id": "l3sNHe_FMVW_",
        "colab_type": "code",
        "colab": {
          "base_uri": "https://localhost:8080/",
          "height": 55
        },
        "outputId": "bbd10569-4cae-4e2d-c11a-a3db65b029be"
      },
      "source": [
        "a = nn.Parameter(a);a"
      ],
      "execution_count": 12,
      "outputs": [
        {
          "output_type": "execute_result",
          "data": {
            "text/plain": [
              "Parameter containing:\n",
              "tensor([-1.,  1.], requires_grad=True)"
            ]
          },
          "metadata": {
            "tags": []
          },
          "execution_count": 12
        }
      ]
    },
    {
      "cell_type": "code",
      "metadata": {
        "id": "q6pkVSVsMb3p",
        "colab_type": "code",
        "colab": {}
      },
      "source": [
        "# backpropagation \n",
        "\n",
        "def weight_update(lr, shift):\n",
        "  y_hat = x @ a\n",
        "\n",
        "  # largest_negative_residual will contain the magnitude of largest negative residual\n",
        "  largest_negative_residual = (y_hat - y).max().item()\n",
        "\n",
        "  loss = mse(y_hat, y)\n",
        "  if t % 10 == 0: print(loss)\n",
        "  loss.backward()\n",
        "  with torch.no_grad():\n",
        "    a.sub_(lr * a.grad) \n",
        "    \n",
        "    if shift:\n",
        "      # after updating weights using backprop also subtract largest_negative_residual from bias\n",
        "      a[1] = a[1] - largest_negative_residual\n",
        "\n",
        "    a.grad.zero_()"
      ],
      "execution_count": 0,
      "outputs": []
    },
    {
      "cell_type": "code",
      "metadata": {
        "id": "J2ORJB1-N1uI",
        "colab_type": "code",
        "colab": {
          "base_uri": "https://localhost:8080/",
          "height": 205
        },
        "outputId": "50fa1f21-43c9-40a9-b443-a5d1cd2abb5b"
      },
      "source": [
        "# training without shifting\n",
        "\n",
        "shift = False\n",
        "lr = 0.1\n",
        "a = tensor(-1., 1)\n",
        "a = nn.Parameter(a)\n",
        "for t in range(100): weight_update(lr, shift)"
      ],
      "execution_count": 14,
      "outputs": [
        {
          "output_type": "stream",
          "text": [
            "tensor(7.2054, grad_fn=<MeanBackward0>)\n",
            "tensor(1.5022, grad_fn=<MeanBackward0>)\n",
            "tensor(0.4121, grad_fn=<MeanBackward0>)\n",
            "tensor(0.1579, grad_fn=<MeanBackward0>)\n",
            "tensor(0.0980, grad_fn=<MeanBackward0>)\n",
            "tensor(0.0838, grad_fn=<MeanBackward0>)\n",
            "tensor(0.0805, grad_fn=<MeanBackward0>)\n",
            "tensor(0.0797, grad_fn=<MeanBackward0>)\n",
            "tensor(0.0795, grad_fn=<MeanBackward0>)\n",
            "tensor(0.0795, grad_fn=<MeanBackward0>)\n"
          ],
          "name": "stdout"
        }
      ]
    },
    {
      "cell_type": "code",
      "metadata": {
        "id": "5G5KydMPN5oY",
        "colab_type": "code",
        "colab": {
          "base_uri": "https://localhost:8080/",
          "height": 55
        },
        "outputId": "86bec30f-3b7f-4f00-d7d6-39811965fdcf"
      },
      "source": [
        "a"
      ],
      "execution_count": 15,
      "outputs": [
        {
          "output_type": "execute_result",
          "data": {
            "text/plain": [
              "Parameter containing:\n",
              "tensor([3.0047, 2.4953], requires_grad=True)"
            ]
          },
          "metadata": {
            "tags": []
          },
          "execution_count": 15
        }
      ]
    },
    {
      "cell_type": "code",
      "metadata": {
        "id": "nJjXoOHSOQVT",
        "colab_type": "code",
        "colab": {}
      },
      "source": [
        "y_hat = x @ a"
      ],
      "execution_count": 0,
      "outputs": []
    },
    {
      "cell_type": "code",
      "metadata": {
        "id": "hVfEAbe5OX4z",
        "colab_type": "code",
        "colab": {
          "base_uri": "https://localhost:8080/",
          "height": 298
        },
        "outputId": "e5f1886a-c82d-4827-8fe3-bd734d15a591"
      },
      "source": [
        "plt.scatter(x[:,0], y, marker = '.')\n",
        "plt.scatter(x[:,0], (x @ a).detach().numpy(), marker = '.')"
      ],
      "execution_count": 17,
      "outputs": [
        {
          "output_type": "execute_result",
          "data": {
            "text/plain": [
              "<matplotlib.collections.PathCollection at 0x7fae81f264e0>"
            ]
          },
          "metadata": {
            "tags": []
          },
          "execution_count": 17
        },
        {
          "output_type": "display_data",
          "data": {
            "image/png": "[encoded data removed]",
            "text/plain": [
              "<Figure size 432x288 with 1 Axes>"
            ]
          },
          "metadata": {
            "tags": []
          }
        }
      ]
    },
    {
      "cell_type": "code",
      "metadata": {
        "id": "kcvOkJhFakH5",
        "colab_type": "code",
        "colab": {
          "base_uri": "https://localhost:8080/",
          "height": 392
        },
        "outputId": "085db694-ce8d-446c-d56b-1ab942de9c7d"
      },
      "source": [
        "# training with shifting\n",
        "\n",
        "shift = True\n",
        "lr = 0.1\n",
        "a = tensor(-1., 1)\n",
        "a = nn.Parameter(a)\n",
        "for t in range(200): weight_update(lr, shift)"
      ],
      "execution_count": 20,
      "outputs": [
        {
          "output_type": "stream",
          "text": [
            "tensor(7.2054, grad_fn=<MeanBackward0>)\n",
            "tensor(5.9529, grad_fn=<MeanBackward0>)\n",
            "tensor(2.2794, grad_fn=<MeanBackward0>)\n",
            "tensor(1.0376, grad_fn=<MeanBackward0>)\n",
            "tensor(0.5842, grad_fn=<MeanBackward0>)\n",
            "tensor(0.4110, grad_fn=<MeanBackward0>)\n",
            "tensor(0.3398, grad_fn=<MeanBackward0>)\n",
            "tensor(0.3063, grad_fn=<MeanBackward0>)\n",
            "tensor(0.2897, grad_fn=<MeanBackward0>)\n",
            "tensor(0.2812, grad_fn=<MeanBackward0>)\n",
            "tensor(0.2767, grad_fn=<MeanBackward0>)\n",
            "tensor(0.2744, grad_fn=<MeanBackward0>)\n",
            "tensor(0.2732, grad_fn=<MeanBackward0>)\n",
            "tensor(0.2725, grad_fn=<MeanBackward0>)\n",
            "tensor(0.2722, grad_fn=<MeanBackward0>)\n",
            "tensor(0.2720, grad_fn=<MeanBackward0>)\n",
            "tensor(0.2719, grad_fn=<MeanBackward0>)\n",
            "tensor(0.2718, grad_fn=<MeanBackward0>)\n",
            "tensor(0.2718, grad_fn=<MeanBackward0>)\n",
            "tensor(0.2718, grad_fn=<MeanBackward0>)\n"
          ],
          "name": "stdout"
        }
      ]
    },
    {
      "cell_type": "code",
      "metadata": {
        "id": "epft-uaZayzV",
        "colab_type": "code",
        "colab": {
          "base_uri": "https://localhost:8080/",
          "height": 55
        },
        "outputId": "afc826fa-79b4-4c90-f7a1-4ef681c16577"
      },
      "source": [
        "a"
      ],
      "execution_count": 21,
      "outputs": [
        {
          "output_type": "execute_result",
          "data": {
            "text/plain": [
              "Parameter containing:\n",
              "tensor([2.9224, 2.0541], requires_grad=True)"
            ]
          },
          "metadata": {
            "tags": []
          },
          "execution_count": 21
        }
      ]
    },
    {
      "cell_type": "code",
      "metadata": {
        "id": "8XH7acjgaz1s",
        "colab_type": "code",
        "colab": {}
      },
      "source": [
        "y_hat = x @ a"
      ],
      "execution_count": 0,
      "outputs": []
    },
    {
      "cell_type": "code",
      "metadata": {
        "id": "uuosDgaJa4Cy",
        "colab_type": "code",
        "colab": {
          "base_uri": "https://localhost:8080/",
          "height": 298
        },
        "outputId": "cbb2f0a7-04cb-441c-aee1-797d3e5c79a0"
      },
      "source": [
        "plt.scatter(x[:,0], y, marker = '.')\n",
        "plt.scatter(x[:,0], (x @ a).detach().numpy(), marker = '.')"
      ],
      "execution_count": 23,
      "outputs": [
        {
          "output_type": "execute_result",
          "data": {
            "text/plain": [
              "<matplotlib.collections.PathCollection at 0x7fae80eab0b8>"
            ]
          },
          "metadata": {
            "tags": []
          },
          "execution_count": 23
        },
        {
          "output_type": "display_data",
          "data": {
            "image/png": "[encoded data removed]",
            "text/plain": [
              "<Figure size 432x288 with 1 Axes>"
            ]
          },
          "metadata": {
            "tags": []
          }
        }
      ]
    }
  ]
}