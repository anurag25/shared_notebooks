{
  "nbformat": 4,
  "nbformat_minor": 0,
  "metadata": {
    "colab": {
      "name": "Jigsaw_0.ipynb",
      "provenance": [],
      "collapsed_sections": [],
      "authorship_tag": "ABX9TyP6BZ88xcTNrjPz8VpSGcom",
      "include_colab_link": true
    },
    "kernelspec": {
      "name": "python3",
      "display_name": "Python 3"
    },
    "accelerator": "GPU"
  },
  "cells": [
    {
      "cell_type": "markdown",
      "metadata": {
        "id": "view-in-github",
        "colab_type": "text"
      },
      "source": [
        "<a href=\"https://colab.research.google.com/github/anurag25/shared_notebooks/blob/master/Jigsaw_0.ipynb\" target=\"_parent\"><img src=\"https://colab.research.google.com/assets/colab-badge.svg\" alt=\"Open In Colab\"/></a>"
      ]
    },
    {
      "cell_type": "code",
      "metadata": {
        "id": "pOuwT_0KnaG3",
        "colab_type": "code",
        "colab": {
          "base_uri": "https://localhost:8080/",
          "height": 129
        },
        "outputId": "b57ce9d0-3dbf-4095-be8c-c589fb90abb5"
      },
      "source": [
        "from google.colab import drive\n",
        "drive.mount('/content/gdrive', force_remount=True)"
      ],
      "execution_count": 2,
      "outputs": [
        {
          "output_type": "stream",
          "text": [
            "Go to this URL in a browser: https://accounts.google.com/o/oauth2/auth?client_id=947318989803-6bn6qk8qdgf4n4g3pfee6491hc0brc4i.apps.googleusercontent.com&redirect_uri=urn%3aietf%3awg%3aoauth%3a2.0%3aoob&response_type=code&scope=email%20https%3a%2f%2fwww.googleapis.com%2fauth%2fdocs.test%20https%3a%2f%2fwww.googleapis.com%2fauth%2fdrive%20https%3a%2f%2fwww.googleapis.com%2fauth%2fdrive.photos.readonly%20https%3a%2f%2fwww.googleapis.com%2fauth%2fpeopleapi.readonly\n",
            "\n",
            "Enter your authorization code:\n",
            "··········\n",
            "Mounted at /content/gdrive\n"
          ],
          "name": "stdout"
        }
      ]
    },
    {
      "cell_type": "code",
      "metadata": {
        "id": "GPuzDN1OMRSK",
        "colab_type": "code",
        "colab": {}
      },
      "source": [
        "%reload_ext autoreload\n",
        "%autoreload 2\n",
        "%matplotlib inline"
      ],
      "execution_count": 0,
      "outputs": []
    },
    {
      "cell_type": "code",
      "metadata": {
        "id": "dKc6vBD7qgY7",
        "colab_type": "code",
        "colab": {}
      },
      "source": [
        "from fastai.text import *\n",
        "from fastai.callbacks import *\n",
        "from fastai.utils import *\n",
        "from fastai.callbacks.mem import PeakMemMetric\n",
        "\n",
        "import warnings\n",
        "warnings.filterwarnings(\"ignore\")"
      ],
      "execution_count": 0,
      "outputs": []
    },
    {
      "cell_type": "code",
      "metadata": {
        "id": "Q0YWSnhBNqY2",
        "colab_type": "code",
        "colab": {
          "base_uri": "https://localhost:8080/",
          "height": 35
        },
        "outputId": "6865106e-4d5e-46ec-acd4-973e7f91c9fa"
      },
      "source": [
        "device = torch.cuda.set_device(0)\n",
        "print(torch.cuda.get_device_name(device))"
      ],
      "execution_count": 5,
      "outputs": [
        {
          "output_type": "stream",
          "text": [
            "Tesla P100-PCIE-16GB\n"
          ],
          "name": "stdout"
        }
      ]
    },
    {
      "cell_type": "code",
      "metadata": {
        "id": "Pos8WEcgNST5",
        "colab_type": "code",
        "colab": {
          "base_uri": "https://localhost:8080/",
          "height": 1000
        },
        "outputId": "fe33ade6-f8c5-472b-a4a7-0f30500d04c9"
      },
      "source": [
        "show_install(show_nvidia_smi = True)"
      ],
      "execution_count": 6,
      "outputs": [
        {
          "output_type": "stream",
          "text": [
            "\n",
            "\n",
            "```text\n",
            "=== Software === \n",
            "python        : 3.6.9\n",
            "fastai        : 1.0.61\n",
            "fastprogress  : 0.2.3\n",
            "torch         : 1.5.0+cu101\n",
            "nvidia driver : 418.67\n",
            "torch cuda    : 10.1 / is available\n",
            "torch cudnn   : 7603 / is enabled\n",
            "\n",
            "=== Hardware === \n",
            "nvidia gpus   : 1\n",
            "torch devices : 1\n",
            "  - gpu0      : 16280MB | Tesla P100-PCIE-16GB\n",
            "\n",
            "=== Environment === \n",
            "platform      : Linux-4.19.104+-x86_64-with-Ubuntu-18.04-bionic\n",
            "distro        : #1 SMP Wed Feb 19 05:26:34 PST 2020\n",
            "conda env     : Unknown\n",
            "python        : /usr/bin/python3\n",
            "sys.path      : \n",
            "/env/python\n",
            "/usr/lib/python36.zip\n",
            "/usr/lib/python3.6\n",
            "/usr/lib/python3.6/lib-dynload\n",
            "/usr/local/lib/python3.6/dist-packages\n",
            "/usr/lib/python3/dist-packages\n",
            "/usr/local/lib/python3.6/dist-packages/IPython/extensions\n",
            "/root/.ipython\n",
            "\n",
            "Sat May 30 13:20:13 2020       \n",
            "+-----------------------------------------------------------------------------+\n",
            "| NVIDIA-SMI 440.82       Driver Version: 418.67       CUDA Version: 10.1     |\n",
            "|-------------------------------+----------------------+----------------------+\n",
            "| GPU  Name        Persistence-M| Bus-Id        Disp.A | Volatile Uncorr. ECC |\n",
            "| Fan  Temp  Perf  Pwr:Usage/Cap|         Memory-Usage | GPU-Util  Compute M. |\n",
            "|===============================+======================+======================|\n",
            "|   0  Tesla P100-PCIE...  Off  | 00000000:00:04.0 Off |                    0 |\n",
            "| N/A   35C    P0    26W / 250W |     10MiB / 16280MiB |      0%      Default |\n",
            "+-------------------------------+----------------------+----------------------+\n",
            "                                                                               \n",
            "+-----------------------------------------------------------------------------+\n",
            "| Processes:                                                       GPU Memory |\n",
            "|  GPU       PID   Type   Process name                             Usage      |\n",
            "|=============================================================================|\n",
            "|  No running processes found                                                 |\n",
            "+-----------------------------------------------------------------------------+\n",
            "\n",
            "```\n",
            "\n",
            "Please make sure to include opening/closing ``` when you paste into forums/github to make the reports appear formatted as code sections.\n",
            "\n",
            "Optional package(s) to enhance the diagnostics can be installed with:\n",
            "pip install distro\n",
            "Once installed, re-run this utility to get the additional information\n"
          ],
          "name": "stdout"
        }
      ]
    },
    {
      "cell_type": "code",
      "metadata": {
        "id": "NAAFxgT8qOzA",
        "colab_type": "code",
        "outputId": "1bf5d562-c9b6-4ede-d83e-6ab75e526950",
        "colab": {
          "base_uri": "https://localhost:8080/",
          "height": 183
        }
      },
      "source": [
        "path_in = Path(\"/content/gdrive/My Drive/kaggle_data/jigsaw/input\")\n",
        "path_out = Path(\"/content/gdrive/My Drive/kaggle_data/jigsaw/output\")\n",
        "path_mod = Path(\"/content/gdrive/My Drive/kaggle_data/jigsaw/model\")\n",
        "path_in.ls()"
      ],
      "execution_count": 7,
      "outputs": [
        {
          "output_type": "execute_result",
          "data": {
            "text/plain": [
              "[PosixPath('/content/gdrive/My Drive/kaggle_data/jigsaw/input/jigsaw-toxic-comment-train.csv'),\n",
              " PosixPath('/content/gdrive/My Drive/kaggle_data/jigsaw/input/validation.csv'),\n",
              " PosixPath('/content/gdrive/My Drive/kaggle_data/jigsaw/input/test.csv'),\n",
              " PosixPath('/content/gdrive/My Drive/kaggle_data/jigsaw/input/validation.csv.zip'),\n",
              " PosixPath('/content/gdrive/My Drive/kaggle_data/jigsaw/input/jigsaw-toxic-comment-train.csv.zip'),\n",
              " PosixPath('/content/gdrive/My Drive/kaggle_data/jigsaw/input/sample_submission.csv'),\n",
              " PosixPath('/content/gdrive/My Drive/kaggle_data/jigsaw/input/test.csv.zip'),\n",
              " PosixPath('/content/gdrive/My Drive/kaggle_data/jigsaw/input/sample_train.csv'),\n",
              " PosixPath('/content/gdrive/My Drive/kaggle_data/jigsaw/input/lm_text.csv')]"
            ]
          },
          "metadata": {
            "tags": []
          },
          "execution_count": 7
        }
      ]
    },
    {
      "cell_type": "code",
      "metadata": {
        "id": "0zQr4m0stW3-",
        "colab_type": "code",
        "colab": {
          "base_uri": "https://localhost:8080/",
          "height": 224
        },
        "outputId": "4c9d8f69-1797-458e-eeba-ddb5592c4809"
      },
      "source": [
        "train_df = pd.read_csv(path_in/\"sample_train.csv\")\n",
        "print(len(train_df))\n",
        "train_df.head()"
      ],
      "execution_count": 8,
      "outputs": [
        {
          "output_type": "stream",
          "text": [
            "22355\n"
          ],
          "name": "stdout"
        },
        {
          "output_type": "execute_result",
          "data": {
            "text/html": [
              "<div>\n",
              "<style scoped>\n",
              "    .dataframe tbody tr th:only-of-type {\n",
              "        vertical-align: middle;\n",
              "    }\n",
              "\n",
              "    .dataframe tbody tr th {\n",
              "        vertical-align: top;\n",
              "    }\n",
              "\n",
              "    .dataframe thead th {\n",
              "        text-align: right;\n",
              "    }\n",
              "</style>\n",
              "<table border=\"1\" class=\"dataframe\">\n",
              "  <thead>\n",
              "    <tr style=\"text-align: right;\">\n",
              "      <th></th>\n",
              "      <th>id</th>\n",
              "      <th>comment_text</th>\n",
              "      <th>toxic</th>\n",
              "      <th>severe_toxic</th>\n",
              "      <th>obscene</th>\n",
              "      <th>threat</th>\n",
              "      <th>insult</th>\n",
              "      <th>identity_hate</th>\n",
              "    </tr>\n",
              "  </thead>\n",
              "  <tbody>\n",
              "    <tr>\n",
              "      <th>0</th>\n",
              "      <td>0a09f916ce6e77ce</td>\n",
              "      <td>\", 22 January 2011 (UTC) \\n :::::BLP?  In any ...</td>\n",
              "      <td>0</td>\n",
              "      <td>0</td>\n",
              "      <td>0</td>\n",
              "      <td>0</td>\n",
              "      <td>0</td>\n",
              "      <td>0</td>\n",
              "    </tr>\n",
              "    <tr>\n",
              "      <th>1</th>\n",
              "      <td>c27b11ee01f9769d</td>\n",
              "      <td>You DL the videos from here actually.. http://...</td>\n",
              "      <td>0</td>\n",
              "      <td>0</td>\n",
              "      <td>0</td>\n",
              "      <td>0</td>\n",
              "      <td>0</td>\n",
              "      <td>0</td>\n",
              "    </tr>\n",
              "    <tr>\n",
              "      <th>2</th>\n",
              "      <td>388e696b7672dc8c</td>\n",
              "      <td>::You're a troll. Delete away.</td>\n",
              "      <td>0</td>\n",
              "      <td>0</td>\n",
              "      <td>0</td>\n",
              "      <td>0</td>\n",
              "      <td>1</td>\n",
              "      <td>0</td>\n",
              "    </tr>\n",
              "    <tr>\n",
              "      <th>3</th>\n",
              "      <td>90b401755e15f325</td>\n",
              "      <td>\" \\n\\n  Please do not vandalize pages, as you ...</td>\n",
              "      <td>0</td>\n",
              "      <td>0</td>\n",
              "      <td>0</td>\n",
              "      <td>0</td>\n",
              "      <td>0</td>\n",
              "      <td>0</td>\n",
              "    </tr>\n",
              "    <tr>\n",
              "      <th>4</th>\n",
              "      <td>ee66e5bc910e5a36</td>\n",
              "      <td>I reckon there is an argument for it  - it is ...</td>\n",
              "      <td>0</td>\n",
              "      <td>0</td>\n",
              "      <td>0</td>\n",
              "      <td>0</td>\n",
              "      <td>0</td>\n",
              "      <td>0</td>\n",
              "    </tr>\n",
              "  </tbody>\n",
              "</table>\n",
              "</div>"
            ],
            "text/plain": [
              "                 id  ... identity_hate\n",
              "0  0a09f916ce6e77ce  ...             0\n",
              "1  c27b11ee01f9769d  ...             0\n",
              "2  388e696b7672dc8c  ...             0\n",
              "3  90b401755e15f325  ...             0\n",
              "4  ee66e5bc910e5a36  ...             0\n",
              "\n",
              "[5 rows x 8 columns]"
            ]
          },
          "metadata": {
            "tags": []
          },
          "execution_count": 8
        }
      ]
    },
    {
      "cell_type": "code",
      "metadata": {
        "id": "Jp6nOugQtx5k",
        "colab_type": "code",
        "colab": {
          "base_uri": "https://localhost:8080/",
          "height": 72
        },
        "outputId": "8c17c8b5-a3a5-4efc-af81-3b07a83f4fc7"
      },
      "source": [
        "train_df.toxic.value_counts()"
      ],
      "execution_count": 9,
      "outputs": [
        {
          "output_type": "execute_result",
          "data": {
            "text/plain": [
              "0    20217\n",
              "1     2138\n",
              "Name: toxic, dtype: int64"
            ]
          },
          "metadata": {
            "tags": []
          },
          "execution_count": 9
        }
      ]
    },
    {
      "cell_type": "code",
      "metadata": {
        "id": "6vKi557et6fG",
        "colab_type": "code",
        "colab": {
          "base_uri": "https://localhost:8080/",
          "height": 224
        },
        "outputId": "75ea35b4-4e69-4f69-e6ad-b5d888c21e8e"
      },
      "source": [
        "valid_df = pd.read_csv(path_in/\"validation.csv\")\n",
        "print(len(valid_df))\n",
        "valid_df.head()"
      ],
      "execution_count": 9,
      "outputs": [
        {
          "output_type": "stream",
          "text": [
            "8000\n"
          ],
          "name": "stdout"
        },
        {
          "output_type": "execute_result",
          "data": {
            "text/html": [
              "<div>\n",
              "<style scoped>\n",
              "    .dataframe tbody tr th:only-of-type {\n",
              "        vertical-align: middle;\n",
              "    }\n",
              "\n",
              "    .dataframe tbody tr th {\n",
              "        vertical-align: top;\n",
              "    }\n",
              "\n",
              "    .dataframe thead th {\n",
              "        text-align: right;\n",
              "    }\n",
              "</style>\n",
              "<table border=\"1\" class=\"dataframe\">\n",
              "  <thead>\n",
              "    <tr style=\"text-align: right;\">\n",
              "      <th></th>\n",
              "      <th>id</th>\n",
              "      <th>comment_text</th>\n",
              "      <th>lang</th>\n",
              "      <th>toxic</th>\n",
              "    </tr>\n",
              "  </thead>\n",
              "  <tbody>\n",
              "    <tr>\n",
              "      <th>0</th>\n",
              "      <td>0</td>\n",
              "      <td>Este usuario ni siquiera llega al rango de    ...</td>\n",
              "      <td>es</td>\n",
              "      <td>0</td>\n",
              "    </tr>\n",
              "    <tr>\n",
              "      <th>1</th>\n",
              "      <td>1</td>\n",
              "      <td>Il testo di questa voce pare esser scopiazzato...</td>\n",
              "      <td>it</td>\n",
              "      <td>0</td>\n",
              "    </tr>\n",
              "    <tr>\n",
              "      <th>2</th>\n",
              "      <td>2</td>\n",
              "      <td>Vale. Sólo expongo mi pasado. Todo tiempo pasa...</td>\n",
              "      <td>es</td>\n",
              "      <td>1</td>\n",
              "    </tr>\n",
              "    <tr>\n",
              "      <th>3</th>\n",
              "      <td>3</td>\n",
              "      <td>Bu maddenin alt başlığı olarak  uluslararası i...</td>\n",
              "      <td>tr</td>\n",
              "      <td>0</td>\n",
              "    </tr>\n",
              "    <tr>\n",
              "      <th>4</th>\n",
              "      <td>4</td>\n",
              "      <td>Belçika nın şehirlerinin yanında ilçe ve belde...</td>\n",
              "      <td>tr</td>\n",
              "      <td>0</td>\n",
              "    </tr>\n",
              "  </tbody>\n",
              "</table>\n",
              "</div>"
            ],
            "text/plain": [
              "   id                                       comment_text lang  toxic\n",
              "0   0  Este usuario ni siquiera llega al rango de    ...   es      0\n",
              "1   1  Il testo di questa voce pare esser scopiazzato...   it      0\n",
              "2   2  Vale. Sólo expongo mi pasado. Todo tiempo pasa...   es      1\n",
              "3   3  Bu maddenin alt başlığı olarak  uluslararası i...   tr      0\n",
              "4   4  Belçika nın şehirlerinin yanında ilçe ve belde...   tr      0"
            ]
          },
          "metadata": {
            "tags": []
          },
          "execution_count": 9
        }
      ]
    },
    {
      "cell_type": "code",
      "metadata": {
        "id": "qChv01z2uKqD",
        "colab_type": "code",
        "colab": {
          "base_uri": "https://localhost:8080/",
          "height": 146
        },
        "outputId": "b244a890-c50c-4fa0-ce5e-d061ff56c250"
      },
      "source": [
        "print(valid_df.lang.value_counts())\n",
        "print(valid_df.toxic.value_counts())"
      ],
      "execution_count": 11,
      "outputs": [
        {
          "output_type": "stream",
          "text": [
            "tr    3000\n",
            "es    2500\n",
            "it    2500\n",
            "Name: lang, dtype: int64\n",
            "0    6770\n",
            "1    1230\n",
            "Name: toxic, dtype: int64\n"
          ],
          "name": "stdout"
        }
      ]
    },
    {
      "cell_type": "code",
      "metadata": {
        "id": "MJnpl9jkqdcA",
        "colab_type": "code",
        "colab": {
          "base_uri": "https://localhost:8080/",
          "height": 224
        },
        "outputId": "b3542119-ae39-4892-b971-e6e674b5ef32"
      },
      "source": [
        "test_df = pd.read_csv(path_in/\"test.csv\")\n",
        "print(len(test_df))\n",
        "test_df.head()"
      ],
      "execution_count": 10,
      "outputs": [
        {
          "output_type": "stream",
          "text": [
            "63812\n"
          ],
          "name": "stdout"
        },
        {
          "output_type": "execute_result",
          "data": {
            "text/html": [
              "<div>\n",
              "<style scoped>\n",
              "    .dataframe tbody tr th:only-of-type {\n",
              "        vertical-align: middle;\n",
              "    }\n",
              "\n",
              "    .dataframe tbody tr th {\n",
              "        vertical-align: top;\n",
              "    }\n",
              "\n",
              "    .dataframe thead th {\n",
              "        text-align: right;\n",
              "    }\n",
              "</style>\n",
              "<table border=\"1\" class=\"dataframe\">\n",
              "  <thead>\n",
              "    <tr style=\"text-align: right;\">\n",
              "      <th></th>\n",
              "      <th>id</th>\n",
              "      <th>content</th>\n",
              "      <th>lang</th>\n",
              "    </tr>\n",
              "  </thead>\n",
              "  <tbody>\n",
              "    <tr>\n",
              "      <th>0</th>\n",
              "      <td>0</td>\n",
              "      <td>Doctor Who adlı viki başlığına 12. doctor olar...</td>\n",
              "      <td>tr</td>\n",
              "    </tr>\n",
              "    <tr>\n",
              "      <th>1</th>\n",
              "      <td>1</td>\n",
              "      <td>Вполне возможно, но я пока не вижу необходимо...</td>\n",
              "      <td>ru</td>\n",
              "    </tr>\n",
              "    <tr>\n",
              "      <th>2</th>\n",
              "      <td>2</td>\n",
              "      <td>Quindi tu sei uno di quelli   conservativi  , ...</td>\n",
              "      <td>it</td>\n",
              "    </tr>\n",
              "    <tr>\n",
              "      <th>3</th>\n",
              "      <td>3</td>\n",
              "      <td>Malesef gerçekleştirilmedi ancak şöyle bir şey...</td>\n",
              "      <td>tr</td>\n",
              "    </tr>\n",
              "    <tr>\n",
              "      <th>4</th>\n",
              "      <td>4</td>\n",
              "      <td>:Resim:Seldabagcan.jpg resminde kaynak sorunu ...</td>\n",
              "      <td>tr</td>\n",
              "    </tr>\n",
              "  </tbody>\n",
              "</table>\n",
              "</div>"
            ],
            "text/plain": [
              "   id                                            content lang\n",
              "0   0  Doctor Who adlı viki başlığına 12. doctor olar...   tr\n",
              "1   1   Вполне возможно, но я пока не вижу необходимо...   ru\n",
              "2   2  Quindi tu sei uno di quelli   conservativi  , ...   it\n",
              "3   3  Malesef gerçekleştirilmedi ancak şöyle bir şey...   tr\n",
              "4   4  :Resim:Seldabagcan.jpg resminde kaynak sorunu ...   tr"
            ]
          },
          "metadata": {
            "tags": []
          },
          "execution_count": 10
        }
      ]
    },
    {
      "cell_type": "code",
      "metadata": {
        "id": "IuKW52CgrOvr",
        "colab_type": "code",
        "colab": {
          "base_uri": "https://localhost:8080/",
          "height": 91
        },
        "outputId": "1a30e667-5508-4ee5-8cf9-2d4827dc9992"
      },
      "source": [
        "print(valid_df.lang.value_counts())"
      ],
      "execution_count": 13,
      "outputs": [
        {
          "output_type": "stream",
          "text": [
            "tr    3000\n",
            "es    2500\n",
            "it    2500\n",
            "Name: lang, dtype: int64\n"
          ],
          "name": "stdout"
        }
      ]
    },
    {
      "cell_type": "code",
      "metadata": {
        "id": "dTkBIawQrnlQ",
        "colab_type": "code",
        "colab": {
          "base_uri": "https://localhost:8080/",
          "height": 239
        },
        "outputId": "fab262fa-fb6c-4ca8-e375-2b1c88913ad3"
      },
      "source": [
        "print(len(train_df), len(valid_df), len(test_df)) \n",
        "print(valid_df.lang.value_counts())\n",
        "print(test_df.lang.value_counts())"
      ],
      "execution_count": 11,
      "outputs": [
        {
          "output_type": "stream",
          "text": [
            "22355 8000 63812\n",
            "tr    3000\n",
            "es    2500\n",
            "it    2500\n",
            "Name: lang, dtype: int64\n",
            "tr    14000\n",
            "pt    11012\n",
            "ru    10948\n",
            "fr    10920\n",
            "it     8494\n",
            "es     8438\n",
            "Name: lang, dtype: int64\n"
          ],
          "name": "stdout"
        }
      ]
    },
    {
      "cell_type": "code",
      "metadata": {
        "id": "Nj3q5gW7rVn9",
        "colab_type": "code",
        "colab": {
          "base_uri": "https://localhost:8080/",
          "height": 206
        },
        "outputId": "3a5c832b-a7cf-4a3d-caa9-666ed9a2eb97"
      },
      "source": [
        "train_df = pd.DataFrame([train_df.toxic, train_df.comment_text]).T\n",
        "train_df.columns = ['label', 'text'] \n",
        "train_df.head()"
      ],
      "execution_count": 11,
      "outputs": [
        {
          "output_type": "execute_result",
          "data": {
            "text/html": [
              "<div>\n",
              "<style scoped>\n",
              "    .dataframe tbody tr th:only-of-type {\n",
              "        vertical-align: middle;\n",
              "    }\n",
              "\n",
              "    .dataframe tbody tr th {\n",
              "        vertical-align: top;\n",
              "    }\n",
              "\n",
              "    .dataframe thead th {\n",
              "        text-align: right;\n",
              "    }\n",
              "</style>\n",
              "<table border=\"1\" class=\"dataframe\">\n",
              "  <thead>\n",
              "    <tr style=\"text-align: right;\">\n",
              "      <th></th>\n",
              "      <th>label</th>\n",
              "      <th>text</th>\n",
              "    </tr>\n",
              "  </thead>\n",
              "  <tbody>\n",
              "    <tr>\n",
              "      <th>0</th>\n",
              "      <td>0</td>\n",
              "      <td>\", 22 January 2011 (UTC) \\n :::::BLP?  In any ...</td>\n",
              "    </tr>\n",
              "    <tr>\n",
              "      <th>1</th>\n",
              "      <td>0</td>\n",
              "      <td>You DL the videos from here actually.. http://...</td>\n",
              "    </tr>\n",
              "    <tr>\n",
              "      <th>2</th>\n",
              "      <td>0</td>\n",
              "      <td>::You're a troll. Delete away.</td>\n",
              "    </tr>\n",
              "    <tr>\n",
              "      <th>3</th>\n",
              "      <td>0</td>\n",
              "      <td>\" \\n\\n  Please do not vandalize pages, as you ...</td>\n",
              "    </tr>\n",
              "    <tr>\n",
              "      <th>4</th>\n",
              "      <td>0</td>\n",
              "      <td>I reckon there is an argument for it  - it is ...</td>\n",
              "    </tr>\n",
              "  </tbody>\n",
              "</table>\n",
              "</div>"
            ],
            "text/plain": [
              "  label                                               text\n",
              "0     0  \", 22 January 2011 (UTC) \\n :::::BLP?  In any ...\n",
              "1     0  You DL the videos from here actually.. http://...\n",
              "2     0                     ::You're a troll. Delete away.\n",
              "3     0  \" \\n\\n  Please do not vandalize pages, as you ...\n",
              "4     0  I reckon there is an argument for it  - it is ..."
            ]
          },
          "metadata": {
            "tags": []
          },
          "execution_count": 11
        }
      ]
    },
    {
      "cell_type": "code",
      "metadata": {
        "id": "DM1DQLW01mbf",
        "colab_type": "code",
        "colab": {
          "base_uri": "https://localhost:8080/",
          "height": 206
        },
        "outputId": "23bf527f-3359-434f-cb64-c6dec2b052c0"
      },
      "source": [
        "valid_df = pd.DataFrame([valid_df.toxic, valid_df.comment_text]).T\n",
        "valid_df.columns = ['label', 'text'] \n",
        "valid_df.head()"
      ],
      "execution_count": 12,
      "outputs": [
        {
          "output_type": "execute_result",
          "data": {
            "text/html": [
              "<div>\n",
              "<style scoped>\n",
              "    .dataframe tbody tr th:only-of-type {\n",
              "        vertical-align: middle;\n",
              "    }\n",
              "\n",
              "    .dataframe tbody tr th {\n",
              "        vertical-align: top;\n",
              "    }\n",
              "\n",
              "    .dataframe thead th {\n",
              "        text-align: right;\n",
              "    }\n",
              "</style>\n",
              "<table border=\"1\" class=\"dataframe\">\n",
              "  <thead>\n",
              "    <tr style=\"text-align: right;\">\n",
              "      <th></th>\n",
              "      <th>label</th>\n",
              "      <th>text</th>\n",
              "    </tr>\n",
              "  </thead>\n",
              "  <tbody>\n",
              "    <tr>\n",
              "      <th>0</th>\n",
              "      <td>0</td>\n",
              "      <td>Este usuario ni siquiera llega al rango de    ...</td>\n",
              "    </tr>\n",
              "    <tr>\n",
              "      <th>1</th>\n",
              "      <td>0</td>\n",
              "      <td>Il testo di questa voce pare esser scopiazzato...</td>\n",
              "    </tr>\n",
              "    <tr>\n",
              "      <th>2</th>\n",
              "      <td>1</td>\n",
              "      <td>Vale. Sólo expongo mi pasado. Todo tiempo pasa...</td>\n",
              "    </tr>\n",
              "    <tr>\n",
              "      <th>3</th>\n",
              "      <td>0</td>\n",
              "      <td>Bu maddenin alt başlığı olarak  uluslararası i...</td>\n",
              "    </tr>\n",
              "    <tr>\n",
              "      <th>4</th>\n",
              "      <td>0</td>\n",
              "      <td>Belçika nın şehirlerinin yanında ilçe ve belde...</td>\n",
              "    </tr>\n",
              "  </tbody>\n",
              "</table>\n",
              "</div>"
            ],
            "text/plain": [
              "  label                                               text\n",
              "0     0  Este usuario ni siquiera llega al rango de    ...\n",
              "1     0  Il testo di questa voce pare esser scopiazzato...\n",
              "2     1  Vale. Sólo expongo mi pasado. Todo tiempo pasa...\n",
              "3     0  Bu maddenin alt başlığı olarak  uluslararası i...\n",
              "4     0  Belçika nın şehirlerinin yanında ilçe ve belde..."
            ]
          },
          "metadata": {
            "tags": []
          },
          "execution_count": 12
        }
      ]
    },
    {
      "cell_type": "code",
      "metadata": {
        "id": "ixQJ7fEjrcq7",
        "colab_type": "code",
        "colab": {
          "base_uri": "https://localhost:8080/",
          "height": 206
        },
        "outputId": "a79e667c-9800-4aa4-d1ec-64d78fe007b0"
      },
      "source": [
        "test_df = pd.DataFrame([test_df.content]).T\n",
        "test_df.columns = ['text'] \n",
        "test_df.head()"
      ],
      "execution_count": 13,
      "outputs": [
        {
          "output_type": "execute_result",
          "data": {
            "text/html": [
              "<div>\n",
              "<style scoped>\n",
              "    .dataframe tbody tr th:only-of-type {\n",
              "        vertical-align: middle;\n",
              "    }\n",
              "\n",
              "    .dataframe tbody tr th {\n",
              "        vertical-align: top;\n",
              "    }\n",
              "\n",
              "    .dataframe thead th {\n",
              "        text-align: right;\n",
              "    }\n",
              "</style>\n",
              "<table border=\"1\" class=\"dataframe\">\n",
              "  <thead>\n",
              "    <tr style=\"text-align: right;\">\n",
              "      <th></th>\n",
              "      <th>text</th>\n",
              "    </tr>\n",
              "  </thead>\n",
              "  <tbody>\n",
              "    <tr>\n",
              "      <th>0</th>\n",
              "      <td>Doctor Who adlı viki başlığına 12. doctor olar...</td>\n",
              "    </tr>\n",
              "    <tr>\n",
              "      <th>1</th>\n",
              "      <td>Вполне возможно, но я пока не вижу необходимо...</td>\n",
              "    </tr>\n",
              "    <tr>\n",
              "      <th>2</th>\n",
              "      <td>Quindi tu sei uno di quelli   conservativi  , ...</td>\n",
              "    </tr>\n",
              "    <tr>\n",
              "      <th>3</th>\n",
              "      <td>Malesef gerçekleştirilmedi ancak şöyle bir şey...</td>\n",
              "    </tr>\n",
              "    <tr>\n",
              "      <th>4</th>\n",
              "      <td>:Resim:Seldabagcan.jpg resminde kaynak sorunu ...</td>\n",
              "    </tr>\n",
              "  </tbody>\n",
              "</table>\n",
              "</div>"
            ],
            "text/plain": [
              "                                                text\n",
              "0  Doctor Who adlı viki başlığına 12. doctor olar...\n",
              "1   Вполне возможно, но я пока не вижу необходимо...\n",
              "2  Quindi tu sei uno di quelli   conservativi  , ...\n",
              "3  Malesef gerçekleştirilmedi ancak şöyle bir şey...\n",
              "4  :Resim:Seldabagcan.jpg resminde kaynak sorunu ..."
            ]
          },
          "metadata": {
            "tags": []
          },
          "execution_count": 13
        }
      ]
    },
    {
      "cell_type": "code",
      "metadata": {
        "id": "_fVwiwDq3Dwu",
        "colab_type": "code",
        "colab": {}
      },
      "source": [
        "train_df = train_df.dropna()\n",
        "valid_df = valid_df.dropna()"
      ],
      "execution_count": 0,
      "outputs": []
    },
    {
      "cell_type": "code",
      "metadata": {
        "id": "HIUYjOE66W2I",
        "colab_type": "code",
        "colab": {}
      },
      "source": [
        "lm_df = pd.DataFrame(pd.concat([train_df.text, valid_df.text, test_df.text]))\n",
        "print(len(lm_df))\n",
        "print(lm_df.head())\n",
        "lm_df.to_csv(path_in/\"lm_text.csv\", index = False)"
      ],
      "execution_count": 0,
      "outputs": []
    },
    {
      "cell_type": "code",
      "metadata": {
        "id": "sa3a37Gks74G",
        "colab_type": "code",
        "colab": {}
      },
      "source": [
        "bs = 48"
      ],
      "execution_count": 0,
      "outputs": []
    },
    {
      "cell_type": "code",
      "metadata": {
        "id": "e2lQlteHtMVJ",
        "colab_type": "code",
        "colab": {
          "base_uri": "https://localhost:8080/",
          "height": 54
        },
        "outputId": "9cc1adf4-376d-4a35-f82f-a0fab5112c68"
      },
      "source": [
        "%%time\n",
        "np.random.seed(42)\n",
        "data_lm = (TextList.from_csv(path_in, \"lm_text.csv\", cols = 0)\n",
        "           .split_by_rand_pct(0.1)\n",
        "           .label_for_lm()\n",
        "           .databunch(bs = bs))\n",
        "\n",
        "data_lm.save(path_out/'data_lm.pkl')"
      ],
      "execution_count": 35,
      "outputs": [
        {
          "output_type": "display_data",
          "data": {
            "text/html": [
              ""
            ],
            "text/plain": [
              "<IPython.core.display.HTML object>"
            ]
          },
          "metadata": {
            "tags": []
          }
        },
        {
          "output_type": "display_data",
          "data": {
            "text/html": [
              ""
            ],
            "text/plain": [
              "<IPython.core.display.HTML object>"
            ]
          },
          "metadata": {
            "tags": []
          }
        },
        {
          "output_type": "stream",
          "text": [
            "CPU times: user 8.97 s, sys: 1.19 s, total: 10.2 s\n",
            "Wall time: 1min 52s\n"
          ],
          "name": "stdout"
        }
      ]
    },
    {
      "cell_type": "code",
      "metadata": {
        "id": "VEDnKPHMDDuG",
        "colab_type": "code",
        "colab": {}
      },
      "source": [
        "data_lm = load_data(path_out, 'data_lm.pkl', bs = bs)"
      ],
      "execution_count": 0,
      "outputs": []
    },
    {
      "cell_type": "code",
      "metadata": {
        "id": "tPMY9daRtUYR",
        "colab_type": "code",
        "colab": {
          "base_uri": "https://localhost:8080/",
          "height": 35
        },
        "outputId": "66609378-8f71-4896-9f9e-12b94cb91bec"
      },
      "source": [
        "path_out.ls()"
      ],
      "execution_count": 36,
      "outputs": [
        {
          "output_type": "execute_result",
          "data": {
            "text/plain": [
              "[PosixPath('/content/gdrive/My Drive/kaggle_data/jigsaw/output/data_lm.pkl')]"
            ]
          },
          "metadata": {
            "tags": []
          },
          "execution_count": 36
        }
      ]
    },
    {
      "cell_type": "code",
      "metadata": {
        "id": "gHp5UnklteXi",
        "colab_type": "code",
        "colab": {
          "base_uri": "https://localhost:8080/",
          "height": 293
        },
        "outputId": "845831fd-d963-49d0-86e8-7a4a75f59ddb"
      },
      "source": [
        "data_lm.show_batch()"
      ],
      "execution_count": 37,
      "outputs": [
        {
          "output_type": "display_data",
          "data": {
            "text/html": [
              "<table border=\"1\" class=\"dataframe\">\n",
              "  <thead>\n",
              "    <tr style=\"text-align: right;\">\n",
              "      <th>idx</th>\n",
              "      <th>text</th>\n",
              "    </tr>\n",
              "  </thead>\n",
              "  <tbody>\n",
              "    <tr>\n",
              "      <td>0</td>\n",
              "      <td>the most neutral phrasing . — xxunk \" xxbos xxmaj you xxup dl the videos from here actually .. http : / / xxunk / history / xxunk / \\n \\n  xxunk thousand years ago ? xxmaj what 's the point and what does that have to do with the article or the near east ? xxbos : : xxmaj you 're a troll . xxmaj delete away .</td>\n",
              "    </tr>\n",
              "    <tr>\n",
              "      <td>1</td>\n",
              "      <td>with the blanking of the evidence . xxunk xxbos i have a copy of xxmaj xxunk on the shelf ; happy to check any specific wording ... xxbos = = comment = = \\n \\n  mind your own business you motherfucker xxbos xxmaj xxunk xxmaj park xxmaj jr xxmaj xxunk \\n \\n  i went there . xxmaj that makes it important . hehehehe \\n  xxunk ! \\n</td>\n",
              "    </tr>\n",
              "    <tr>\n",
              "      <td>2</td>\n",
              "      <td>we 'll need to make sure they stay in context - one thing which bothered me about the way you quoted xxmaj xxunk in the edit i reverted was the way only the most shocking of his comments were cited . xxmaj if a rationale or explanation for the comments is well - known , that 's important to summarize also , to make sure both sides of the issues</td>\n",
              "    </tr>\n",
              "    <tr>\n",
              "      <td>3</td>\n",
              "      <td>'s all i think it 's worth . xxmaj you just ca n't change those people 's minds and they will xxunk any support you are able to get . xxmaj they do n't feel any xxunk in their views and even pointing it out to them carefully does n't work . xxbos \" talk 5 pillars xxmaj july 2 , 2005 13:45 ( xxup utc ) \" xxbos \"</td>\n",
              "    </tr>\n",
              "    <tr>\n",
              "      <td>4</td>\n",
              "      <td>article xxmaj xxunk . xxbos \" = = xxup ga xxmaj review== \\n \\n  : xxmaj this review is transcluded from xxmaj talk : xxmaj the xxmaj xxunk xxmaj trial : xxmaj abraham xxmaj lincoln and xxmaj american xxmaj slavery / xxup ga1 . xxmaj the edit link for this section can be used to add comments to the review . \\n \\n  xxmaj reviewer :   (</td>\n",
              "    </tr>\n",
              "  </tbody>\n",
              "</table>"
            ],
            "text/plain": [
              "<IPython.core.display.HTML object>"
            ]
          },
          "metadata": {
            "tags": []
          }
        }
      ]
    },
    {
      "cell_type": "code",
      "metadata": {
        "id": "qzOlbvmu1T3o",
        "colab_type": "code",
        "colab": {
          "base_uri": "https://localhost:8080/",
          "height": 35
        },
        "outputId": "f13ab8c8-cba0-4524-ed88-07ebb1d9fa79"
      },
      "source": [
        "learn = language_model_learner(data_lm, AWD_LSTM, model_dir = path_mod, drop_mult = 0.3, callback_fns = PeakMemMetric).to_fp16()"
      ],
      "execution_count": 18,
      "outputs": [
        {
          "output_type": "stream",
          "text": [
            "Downloading https://s3.amazonaws.com/fast-ai-modelzoo/wt103-fwd.tgz\n"
          ],
          "name": "stdout"
        },
        {
          "output_type": "display_data",
          "data": {
            "text/html": [
              ""
            ],
            "text/plain": [
              "<IPython.core.display.HTML object>"
            ]
          },
          "metadata": {
            "tags": []
          }
        }
      ]
    },
    {
      "cell_type": "code",
      "metadata": {
        "id": "7c4-51Rg9jNL",
        "colab_type": "code",
        "colab": {
          "base_uri": "https://localhost:8080/",
          "height": 151
        },
        "outputId": "516f34c1-f571-432c-97c9-574d09aa58fd"
      },
      "source": [
        "%%time\n",
        "learn.lr_find()"
      ],
      "execution_count": 39,
      "outputs": [
        {
          "output_type": "display_data",
          "data": {
            "text/html": [
              "\n",
              "    <div>\n",
              "        <style>\n",
              "            /* Turns off some styling */\n",
              "            progress {\n",
              "                /* gets rid of default border in Firefox and Opera. */\n",
              "                border: none;\n",
              "                /* Needs to be in here for Safari polyfill so background images work as expected. */\n",
              "                background-size: auto;\n",
              "            }\n",
              "            .progress-bar-interrupted, .progress-bar-interrupted::-webkit-progress-bar {\n",
              "                background: #F44336;\n",
              "            }\n",
              "        </style>\n",
              "      <progress value='0' class='' max='1' style='width:300px; height:20px; vertical-align: middle;'></progress>\n",
              "      0.00% [0/1 00:00<00:00]\n",
              "    </div>\n",
              "    \n",
              "<table border=\"1\" class=\"dataframe\">\n",
              "  <thead>\n",
              "    <tr style=\"text-align: left;\">\n",
              "      <th>epoch</th>\n",
              "      <th>train_loss</th>\n",
              "      <th>valid_loss</th>\n",
              "      <th>accuracy</th>\n",
              "      <th>cpu used</th>\n",
              "      <th>peak</th>\n",
              "      <th>gpu used</th>\n",
              "      <th>peak</th>\n",
              "      <th>time</th>\n",
              "    </tr>\n",
              "  </thead>\n",
              "  <tbody>\n",
              "  </tbody>\n",
              "</table><p>\n",
              "\n",
              "    <div>\n",
              "        <style>\n",
              "            /* Turns off some styling */\n",
              "            progress {\n",
              "                /* gets rid of default border in Firefox and Opera. */\n",
              "                border: none;\n",
              "                /* Needs to be in here for Safari polyfill so background images work as expected. */\n",
              "                background-size: auto;\n",
              "            }\n",
              "            .progress-bar-interrupted, .progress-bar-interrupted::-webkit-progress-bar {\n",
              "                background: #F44336;\n",
              "            }\n",
              "        </style>\n",
              "      <progress value='99' class='' max='2055' style='width:300px; height:20px; vertical-align: middle;'></progress>\n",
              "      4.82% [99/2055 01:25<28:01 13.2641]\n",
              "    </div>\n",
              "    "
            ],
            "text/plain": [
              "<IPython.core.display.HTML object>"
            ]
          },
          "metadata": {
            "tags": []
          }
        },
        {
          "output_type": "stream",
          "text": [
            "LR Finder is complete, type {learner_name}.recorder.plot() to see the graph.\n",
            "CPU times: user 52.2 s, sys: 38 s, total: 1min 30s\n",
            "Wall time: 1min 27s\n"
          ],
          "name": "stdout"
        }
      ]
    },
    {
      "cell_type": "code",
      "metadata": {
        "id": "ylJHkCk0-YwC",
        "colab_type": "code",
        "colab": {
          "base_uri": "https://localhost:8080/",
          "height": 316
        },
        "outputId": "1101e1a5-eade-41bd-c1e0-599151d3545e"
      },
      "source": [
        "learn.recorder.plot(suggestion = True, skip_end=8)"
      ],
      "execution_count": 46,
      "outputs": [
        {
          "output_type": "stream",
          "text": [
            "Min numerical gradient: 1.58E-02\n",
            "Min loss divided by 10: 2.09E-02\n"
          ],
          "name": "stdout"
        },
        {
          "output_type": "display_data",
          "data": {
            "image/png": "[encoded data removed]",
            "text/plain": [
              "<Figure size 432x288 with 1 Axes>"
            ]
          },
          "metadata": {
            "tags": [],
            "needs_background": "light"
          }
        }
      ]
    },
    {
      "cell_type": "code",
      "metadata": {
        "id": "xJtkZFar--kb",
        "colab_type": "code",
        "colab": {
          "base_uri": "https://localhost:8080/",
          "height": 149
        },
        "outputId": "9d6c61c9-e5ac-451a-b1fa-b39f057ef843"
      },
      "source": [
        "learn.fit_one_cycle(2, 2.75E-02, moms=(0.8, 0.7), \n",
        "       callbacks=[SaveModelCallback(learn, every='improvement', monitor='valid_loss', name = 'best_fit_head')])"
      ],
      "execution_count": 47,
      "outputs": [
        {
          "output_type": "display_data",
          "data": {
            "text/html": [
              "<table border=\"1\" class=\"dataframe\">\n",
              "  <thead>\n",
              "    <tr style=\"text-align: left;\">\n",
              "      <th>epoch</th>\n",
              "      <th>train_loss</th>\n",
              "      <th>valid_loss</th>\n",
              "      <th>accuracy</th>\n",
              "      <th>cpu used</th>\n",
              "      <th>peak</th>\n",
              "      <th>gpu used</th>\n",
              "      <th>peak</th>\n",
              "      <th>time</th>\n",
              "    </tr>\n",
              "  </thead>\n",
              "  <tbody>\n",
              "    <tr>\n",
              "      <td>0</td>\n",
              "      <td>4.710141</td>\n",
              "      <td>4.485938</td>\n",
              "      <td>0.303743</td>\n",
              "      <td>0</td>\n",
              "      <td>0</td>\n",
              "      <td>1120</td>\n",
              "      <td>2348</td>\n",
              "      <td>30:59</td>\n",
              "    </tr>\n",
              "    <tr>\n",
              "      <td>1</td>\n",
              "      <td>4.260427</td>\n",
              "      <td>4.135214</td>\n",
              "      <td>0.332271</td>\n",
              "      <td>0</td>\n",
              "      <td>0</td>\n",
              "      <td>0</td>\n",
              "      <td>2696</td>\n",
              "      <td>31:03</td>\n",
              "    </tr>\n",
              "  </tbody>\n",
              "</table>"
            ],
            "text/plain": [
              "<IPython.core.display.HTML object>"
            ]
          },
          "metadata": {
            "tags": []
          }
        },
        {
          "output_type": "stream",
          "text": [
            "Better model found at epoch 0 with valid_loss value: 4.48593807220459.\n",
            "Better model found at epoch 1 with valid_loss value: 4.135213851928711.\n"
          ],
          "name": "stdout"
        }
      ]
    },
    {
      "cell_type": "code",
      "metadata": {
        "id": "uDBbc7SWNesT",
        "colab_type": "code",
        "colab": {}
      },
      "source": [
        "learn.load(path_mod/\"best_fit_head\")"
      ],
      "execution_count": 0,
      "outputs": []
    },
    {
      "cell_type": "code",
      "metadata": {
        "id": "-eC_JDysNrYD",
        "colab_type": "code",
        "colab": {}
      },
      "source": [
        "learn.unfreeze()"
      ],
      "execution_count": 0,
      "outputs": []
    },
    {
      "cell_type": "code",
      "metadata": {
        "id": "BzYW6TnqNuTi",
        "colab_type": "code",
        "colab": {
          "base_uri": "https://localhost:8080/",
          "height": 114
        },
        "outputId": "d6e79a90-e40e-4435-c8b9-7baed323d78f"
      },
      "source": [
        "learn.lr_find()"
      ],
      "execution_count": 50,
      "outputs": [
        {
          "output_type": "display_data",
          "data": {
            "text/html": [
              "\n",
              "    <div>\n",
              "        <style>\n",
              "            /* Turns off some styling */\n",
              "            progress {\n",
              "                /* gets rid of default border in Firefox and Opera. */\n",
              "                border: none;\n",
              "                /* Needs to be in here for Safari polyfill so background images work as expected. */\n",
              "                background-size: auto;\n",
              "            }\n",
              "            .progress-bar-interrupted, .progress-bar-interrupted::-webkit-progress-bar {\n",
              "                background: #F44336;\n",
              "            }\n",
              "        </style>\n",
              "      <progress value='0' class='' max='1' style='width:300px; height:20px; vertical-align: middle;'></progress>\n",
              "      0.00% [0/1 00:00<00:00]\n",
              "    </div>\n",
              "    \n",
              "<table border=\"1\" class=\"dataframe\">\n",
              "  <thead>\n",
              "    <tr style=\"text-align: left;\">\n",
              "      <th>epoch</th>\n",
              "      <th>train_loss</th>\n",
              "      <th>valid_loss</th>\n",
              "      <th>accuracy</th>\n",
              "      <th>cpu used</th>\n",
              "      <th>peak</th>\n",
              "      <th>gpu used</th>\n",
              "      <th>peak</th>\n",
              "      <th>time</th>\n",
              "    </tr>\n",
              "  </thead>\n",
              "  <tbody>\n",
              "  </tbody>\n",
              "</table><p>\n",
              "\n",
              "    <div>\n",
              "        <style>\n",
              "            /* Turns off some styling */\n",
              "            progress {\n",
              "                /* gets rid of default border in Firefox and Opera. */\n",
              "                border: none;\n",
              "                /* Needs to be in here for Safari polyfill so background images work as expected. */\n",
              "                background-size: auto;\n",
              "            }\n",
              "            .progress-bar-interrupted, .progress-bar-interrupted::-webkit-progress-bar {\n",
              "                background: #F44336;\n",
              "            }\n",
              "        </style>\n",
              "      <progress value='92' class='' max='2055' style='width:300px; height:20px; vertical-align: middle;'></progress>\n",
              "      4.48% [92/2055 01:28<31:33 14.0205]\n",
              "    </div>\n",
              "    "
            ],
            "text/plain": [
              "<IPython.core.display.HTML object>"
            ]
          },
          "metadata": {
            "tags": []
          }
        },
        {
          "output_type": "stream",
          "text": [
            "LR Finder is complete, type {learner_name}.recorder.plot() to see the graph.\n"
          ],
          "name": "stdout"
        }
      ]
    },
    {
      "cell_type": "code",
      "metadata": {
        "id": "9ExeCPh7PH_o",
        "colab_type": "code",
        "colab": {}
      },
      "source": [
        ""
      ],
      "execution_count": 0,
      "outputs": []
    },
    {
      "cell_type": "code",
      "metadata": {
        "id": "GNC2RK1tOOjG",
        "colab_type": "code",
        "colab": {
          "base_uri": "https://localhost:8080/",
          "height": 316
        },
        "outputId": "60253c1e-528a-4c56-f49e-fc7b240738d4"
      },
      "source": [
        "learn.recorder.plot(suggestion = True, skip_end=15)"
      ],
      "execution_count": 53,
      "outputs": [
        {
          "output_type": "stream",
          "text": [
            "Min numerical gradient: 3.31E-06\n",
            "Min loss divided by 10: 1.74E-04\n"
          ],
          "name": "stdout"
        },
        {
          "output_type": "display_data",
          "data": {
            "image/png": "[encoded data removed]",
            "text/plain": [
              "<Figure size 432x288 with 1 Axes>"
            ]
          },
          "metadata": {
            "tags": [],
            "needs_background": "light"
          }
        }
      ]
    },
    {
      "cell_type": "code",
      "metadata": {
        "id": "meRbeOf7PMhz",
        "colab_type": "code",
        "colab": {
          "base_uri": "https://localhost:8080/",
          "height": 280
        },
        "outputId": "5eefdb01-01a1-4039-f216-9169cc9a0f9e"
      },
      "source": [
        "learn.fit_one_cycle(5, 2.75E-03, moms=(0.8, 0.7), \n",
        "       callbacks=[SaveModelCallback(learn, every='improvement', monitor='valid_loss', name = 'best_lm_fine_tuned')])"
      ],
      "execution_count": 54,
      "outputs": [
        {
          "output_type": "display_data",
          "data": {
            "text/html": [
              "<table border=\"1\" class=\"dataframe\">\n",
              "  <thead>\n",
              "    <tr style=\"text-align: left;\">\n",
              "      <th>epoch</th>\n",
              "      <th>train_loss</th>\n",
              "      <th>valid_loss</th>\n",
              "      <th>accuracy</th>\n",
              "      <th>cpu used</th>\n",
              "      <th>peak</th>\n",
              "      <th>gpu used</th>\n",
              "      <th>peak</th>\n",
              "      <th>time</th>\n",
              "    </tr>\n",
              "  </thead>\n",
              "  <tbody>\n",
              "    <tr>\n",
              "      <td>0</td>\n",
              "      <td>3.893295</td>\n",
              "      <td>3.948941</td>\n",
              "      <td>0.344141</td>\n",
              "      <td>0</td>\n",
              "      <td>0</td>\n",
              "      <td>770</td>\n",
              "      <td>2696</td>\n",
              "      <td>34:35</td>\n",
              "    </tr>\n",
              "    <tr>\n",
              "      <td>1</td>\n",
              "      <td>3.906411</td>\n",
              "      <td>3.864715</td>\n",
              "      <td>0.355230</td>\n",
              "      <td>0</td>\n",
              "      <td>0</td>\n",
              "      <td>0</td>\n",
              "      <td>2696</td>\n",
              "      <td>34:40</td>\n",
              "    </tr>\n",
              "    <tr>\n",
              "      <td>2</td>\n",
              "      <td>3.724854</td>\n",
              "      <td>3.785601</td>\n",
              "      <td>0.365374</td>\n",
              "      <td>0</td>\n",
              "      <td>0</td>\n",
              "      <td>0</td>\n",
              "      <td>2696</td>\n",
              "      <td>34:41</td>\n",
              "    </tr>\n",
              "    <tr>\n",
              "      <td>3</td>\n",
              "      <td>3.499038</td>\n",
              "      <td>3.747781</td>\n",
              "      <td>0.371026</td>\n",
              "      <td>0</td>\n",
              "      <td>0</td>\n",
              "      <td>0</td>\n",
              "      <td>2696</td>\n",
              "      <td>34:42</td>\n",
              "    </tr>\n",
              "    <tr>\n",
              "      <td>4</td>\n",
              "      <td>3.277662</td>\n",
              "      <td>3.764797</td>\n",
              "      <td>0.371132</td>\n",
              "      <td>0</td>\n",
              "      <td>0</td>\n",
              "      <td>0</td>\n",
              "      <td>2696</td>\n",
              "      <td>34:40</td>\n",
              "    </tr>\n",
              "  </tbody>\n",
              "</table>"
            ],
            "text/plain": [
              "<IPython.core.display.HTML object>"
            ]
          },
          "metadata": {
            "tags": []
          }
        },
        {
          "output_type": "stream",
          "text": [
            "Better model found at epoch 0 with valid_loss value: 3.948941230773926.\n",
            "Better model found at epoch 1 with valid_loss value: 3.864715337753296.\n",
            "Better model found at epoch 2 with valid_loss value: 3.7856009006500244.\n",
            "Better model found at epoch 3 with valid_loss value: 3.7477810382843018.\n"
          ],
          "name": "stdout"
        }
      ]
    },
    {
      "cell_type": "code",
      "metadata": {
        "id": "tY0MwqSSMUL6",
        "colab_type": "code",
        "colab": {}
      },
      "source": [
        "learn.load(path_mod/'best_lm_fine_tuned')"
      ],
      "execution_count": 0,
      "outputs": []
    },
    {
      "cell_type": "code",
      "metadata": {
        "id": "pJgyXXi4Mj0b",
        "colab_type": "code",
        "colab": {}
      },
      "source": [
        "learn.save_encoder(path_mod/\"best_fine_tuned_enc\")"
      ],
      "execution_count": 0,
      "outputs": []
    },
    {
      "cell_type": "code",
      "metadata": {
        "id": "K-0JOHZhNGlo",
        "colab_type": "code",
        "colab": {}
      },
      "source": [
        "TEXT = \"Este usuario ni siquiera llega al rango de\"\n",
        "N_WORDS = 20\n",
        "N_SENTENCES = 1"
      ],
      "execution_count": 0,
      "outputs": []
    },
    {
      "cell_type": "code",
      "metadata": {
        "id": "z8p6mJrRNbwZ",
        "colab_type": "code",
        "colab": {
          "base_uri": "https://localhost:8080/",
          "height": 35
        },
        "outputId": "d568f4ac-4778-4846-c701-374b25586129"
      },
      "source": [
        "print(\"\\n\".join(learn.predict(TEXT, N_WORDS, temperature=0.75) for _ in range(N_SENTENCES)))"
      ],
      "execution_count": 22,
      "outputs": [
        {
          "output_type": "stream",
          "text": [
            "Este usuario ni siquiera llega al rango de que se cansa . Que odio a la mierda de quien le gusta la forma de darte el ojete\n"
          ],
          "name": "stdout"
        }
      ]
    },
    {
      "cell_type": "markdown",
      "metadata": {
        "id": "C9XZnbtLNmK8",
        "colab_type": "text"
      },
      "source": [
        "Actual text:\n",
        "\"Este usuario ni siquiera llega al rango de    hereje   . Por lo tanto deberÃ­a ser quemado en la barbacoa para purificar su alma y nuestro aparato digestivo mediante su ingestiÃ³n.    Skipe linkin 22px   Honor, valor, leltad.      17:48 13 mar 2008 (UTC)\""
      ]
    },
    {
      "cell_type": "code",
      "metadata": {
        "id": "rNvWVkS6JJNt",
        "colab_type": "code",
        "colab": {}
      },
      "source": [
        "bs = 128\n",
        "data_clas_train = load_data(path_out, 'data_clas_train.pkl', bs = bs)"
      ],
      "execution_count": 0,
      "outputs": []
    },
    {
      "cell_type": "code",
      "metadata": {
        "id": "Em3iUBGhN0Te",
        "colab_type": "code",
        "colab": {
          "base_uri": "https://localhost:8080/",
          "height": 54
        },
        "outputId": "92f05a5a-9e60-44a5-af3b-0f533c545820"
      },
      "source": [
        "%%time\n",
        "bs = 128\n",
        "data_clas_train =  (TextList.from_df(train_df, vocab = data_lm.vocab, cols = 1)\n",
        "                    .split_none()\n",
        "                    .label_from_df(cols = 0)\n",
        "                    .databunch(bs = bs))"
      ],
      "execution_count": 28,
      "outputs": [
        {
          "output_type": "display_data",
          "data": {
            "text/html": [
              ""
            ],
            "text/plain": [
              "<IPython.core.display.HTML object>"
            ]
          },
          "metadata": {
            "tags": []
          }
        },
        {
          "output_type": "display_data",
          "data": {
            "text/html": [
              ""
            ],
            "text/plain": [
              "<IPython.core.display.HTML object>"
            ]
          },
          "metadata": {
            "tags": []
          }
        },
        {
          "output_type": "stream",
          "text": [
            "CPU times: user 2.02 s, sys: 390 ms, total: 2.41 s\n",
            "Wall time: 15 s\n"
          ],
          "name": "stdout"
        }
      ]
    },
    {
      "cell_type": "code",
      "metadata": {
        "id": "guGyX_ErPwVw",
        "colab_type": "code",
        "colab": {
          "base_uri": "https://localhost:8080/",
          "height": 351
        },
        "outputId": "65e01e3b-7162-4e05-9f94-dfa3e4feff25"
      },
      "source": [
        "valid_data = TextList.from_df(valid_df, vocab = data_lm.vocab, cols = 1).split_none().label_from_df(cols = 0).databunch(bs = bs)\n",
        "valid_data"
      ],
      "execution_count": 29,
      "outputs": [
        {
          "output_type": "display_data",
          "data": {
            "text/html": [
              ""
            ],
            "text/plain": [
              "<IPython.core.display.HTML object>"
            ]
          },
          "metadata": {
            "tags": []
          }
        },
        {
          "output_type": "display_data",
          "data": {
            "text/html": [
              ""
            ],
            "text/plain": [
              "<IPython.core.display.HTML object>"
            ]
          },
          "metadata": {
            "tags": []
          }
        },
        {
          "output_type": "execute_result",
          "data": {
            "text/plain": [
              "TextClasDataBunch;\n",
              "\n",
              "Train: LabelList (8000 items)\n",
              "x: TextList\n",
              "xxbos xxmaj este usuario ni siquiera llega al rango de xxunk . xxmaj por lo tanto debería ser xxunk en la xxunk para xxunk su alma y nuestro aparato xxunk mediante su xxunk . xxmaj xxunk linkin 22px xxmaj honor , valor , xxunk . xxunk 13 mar 2008 ( xxup utc ),xxbos xxmaj il testo di questa voce pare esser scopiazzato direttamente da qui . xxmaj immagino possano esserci problemi di copyright , nel fare cio .,xxbos xxmaj vale . xxmaj sólo xxunk mi pasado . xxmaj todo tiempo pasado fue mejor , ni mucho menos , yo no quisiera xxunk 31 años a nivel particular . xxmaj las xxunk a pasar putas . xxmaj fernando,xxbos xxmaj bu maddenin alt başlığı olarak uluslararası ilişkiler ile konuyu sürdürmek ile ilgili xxunk var . xxmaj önerim siyaset bilimi ana başlığından sonra siyasal yaşam ve toplum , siyasal güç , siyasal xxunk , siyasal gruplar , çağdaş xxunk , din , siyasal xxunk , xxunk , propaganda ve siyasal xxunk temelinde xxunk siyasal xxunk . xxmaj bu alt başlıkların daha anlamlı olacağı kanaatindeyim .,xxbos xxmaj belçika nın xxunk yanında ilçe ve xxunk yaparken sanırım xxmaj xxunk örnek xxunk . xxmaj ben de uzak xxunk - 3 yıl ) bu tip şeyler düşünüyorum . xxmaj tabii futbol maddelerinin hakkından geldikten sonra .. daha önce mesajlarınızı görmüştüm , hatta anon bölümünü bizzat kullanıyordum sözünü anlamadım ? ? tanışmak xxunk gibi bir şey eklemeyi düşündüm ama vazgeçtim . orayı da silmeyi unuttum . boşverin xxmaj kıdemli +\n",
              "y: CategoryList\n",
              "0,0,1,0,0\n",
              "Path: .;\n",
              "\n",
              "Valid: LabelList (0 items)\n",
              "x: TextList\n",
              "\n",
              "y: CategoryList\n",
              "\n",
              "Path: .;\n",
              "\n",
              "Test: None"
            ]
          },
          "metadata": {
            "tags": []
          },
          "execution_count": 29
        }
      ]
    },
    {
      "cell_type": "code",
      "metadata": {
        "id": "i0Iy8q__PXyQ",
        "colab_type": "code",
        "colab": {}
      },
      "source": [
        "data_clas_train.valid_dl = valid_data.train_dl"
      ],
      "execution_count": 0,
      "outputs": []
    },
    {
      "cell_type": "code",
      "metadata": {
        "id": "i0nKvY1jSZ5q",
        "colab_type": "code",
        "colab": {}
      },
      "source": [
        "data_clas_train.save(path_out/'data_clas_train.pkl')"
      ],
      "execution_count": 0,
      "outputs": []
    },
    {
      "cell_type": "code",
      "metadata": {
        "id": "3kjceOdfSTV8",
        "colab_type": "code",
        "colab": {
          "base_uri": "https://localhost:8080/",
          "height": 443
        },
        "outputId": "01340464-97af-44ee-ab7e-4b76d4ee9fb3"
      },
      "source": [
        "data_clas_train"
      ],
      "execution_count": 54,
      "outputs": [
        {
          "output_type": "execute_result",
          "data": {
            "text/plain": [
              "TextClasDataBunch;\n",
              "\n",
              "Train: LabelList (22355 items)\n",
              "x: TextList\n",
              "xxbos \" , 22 xxmaj january 2011 ( xxup utc ) \n",
              "  xxrep 5 : xxup blp ? xxmaj in any case , although we do n't have a ( credible ; less restrictive than \" \" reliable \" \" ) source that it is xxunk , we may have a reliable source that it is accused ( by political opponents ) of being xxunk . xxmaj that might be the most neutral phrasing . — xxunk \",xxbos xxmaj you xxup dl the videos from here actually .. http : / / xxunk / history / xxunk / \n",
              " \n",
              "  xxunk thousand years ago ? xxmaj what 's the point and what does that have to do with the article or the near east ?,xxbos : : xxmaj you 're a troll . xxmaj delete away .,xxbos \" \n",
              " \n",
              "  xxmaj please do not vandalize pages , as you did with this edit to xxmaj alexander the xxmaj great . xxmaj if you continue to do so , you will be blocked from editing . \",xxbos i reckon there is an argument for it - it is an interesting part of the total package . xxmaj it 's much easier to read here than the version printed in the xxunk / xxunk .\n",
              "y: CategoryList\n",
              "0,0,0,0,0\n",
              "Path: .;\n",
              "\n",
              "Valid: LabelList (8000 items)\n",
              "x: TextList\n",
              "xxbos xxmaj este usuario ni siquiera llega al rango de xxunk . xxmaj por lo tanto debería ser xxunk en la xxunk para xxunk su alma y nuestro aparato xxunk mediante su xxunk . xxmaj xxunk linkin 22px xxmaj honor , valor , xxunk . xxunk 13 mar 2008 ( xxup utc ),xxbos xxmaj il testo di questa voce pare esser scopiazzato direttamente da qui . xxmaj immagino possano esserci problemi di copyright , nel fare cio .,xxbos xxmaj vale . xxmaj sólo xxunk mi pasado . xxmaj todo tiempo pasado fue mejor , ni mucho menos , yo no quisiera xxunk 31 años a nivel particular . xxmaj las xxunk a pasar putas . xxmaj fernando,xxbos xxmaj bu maddenin alt başlığı olarak uluslararası ilişkiler ile konuyu sürdürmek ile ilgili xxunk var . xxmaj önerim siyaset bilimi ana başlığından sonra siyasal yaşam ve toplum , siyasal güç , siyasal xxunk , siyasal gruplar , çağdaş xxunk , din , siyasal xxunk , xxunk , propaganda ve siyasal xxunk temelinde xxunk siyasal xxunk . xxmaj bu alt başlıkların daha anlamlı olacağı kanaatindeyim .,xxbos xxmaj belçika nın xxunk yanında ilçe ve xxunk yaparken sanırım xxmaj xxunk örnek xxunk . xxmaj ben de uzak xxunk - 3 yıl ) bu tip şeyler düşünüyorum . xxmaj tabii futbol maddelerinin hakkından geldikten sonra .. daha önce mesajlarınızı görmüştüm , hatta anon bölümünü bizzat kullanıyordum sözünü anlamadım ? ? tanışmak xxunk gibi bir şey eklemeyi düşündüm ama vazgeçtim . orayı da silmeyi unuttum . boşverin xxmaj kıdemli +\n",
              "y: CategoryList\n",
              "0,0,1,0,0\n",
              "Path: .;\n",
              "\n",
              "Test: None"
            ]
          },
          "metadata": {
            "tags": []
          },
          "execution_count": 54
        }
      ]
    },
    {
      "cell_type": "code",
      "metadata": {
        "id": "YhOZKKJnSp53",
        "colab_type": "code",
        "colab": {}
      },
      "source": [
        "auc_roc_score = AUROC()\n",
        "learn = text_classifier_learner(data_clas_train, AWD_LSTM, model_dir = path_mod, drop_mult = 0.5, metrics = [accuracy, auc_roc_score], callback_fns=PeakMemMetric).to_fp16()\n",
        "learn.load_encoder(path_mod/\"best_fine_tuned_enc\")"
      ],
      "execution_count": 0,
      "outputs": []
    },
    {
      "cell_type": "code",
      "metadata": {
        "id": "T_2DfsqJSxs7",
        "colab_type": "code",
        "colab": {
          "base_uri": "https://localhost:8080/",
          "height": 114
        },
        "outputId": "37d130cf-9ea5-40ed-a337-b243cb7ee4de"
      },
      "source": [
        "learn.lr_find()"
      ],
      "execution_count": 63,
      "outputs": [
        {
          "output_type": "display_data",
          "data": {
            "text/html": [
              "\n",
              "    <div>\n",
              "        <style>\n",
              "            /* Turns off some styling */\n",
              "            progress {\n",
              "                /* gets rid of default border in Firefox and Opera. */\n",
              "                border: none;\n",
              "                /* Needs to be in here for Safari polyfill so background images work as expected. */\n",
              "                background-size: auto;\n",
              "            }\n",
              "            .progress-bar-interrupted, .progress-bar-interrupted::-webkit-progress-bar {\n",
              "                background: #F44336;\n",
              "            }\n",
              "        </style>\n",
              "      <progress value='0' class='' max='1' style='width:300px; height:20px; vertical-align: middle;'></progress>\n",
              "      0.00% [0/1 00:00<00:00]\n",
              "    </div>\n",
              "    \n",
              "<table border=\"1\" class=\"dataframe\">\n",
              "  <thead>\n",
              "    <tr style=\"text-align: left;\">\n",
              "      <th>epoch</th>\n",
              "      <th>train_loss</th>\n",
              "      <th>valid_loss</th>\n",
              "      <th>accuracy</th>\n",
              "      <th>auroc</th>\n",
              "      <th>cpu used</th>\n",
              "      <th>peak</th>\n",
              "      <th>gpu used</th>\n",
              "      <th>peak</th>\n",
              "      <th>time</th>\n",
              "    </tr>\n",
              "  </thead>\n",
              "  <tbody>\n",
              "  </tbody>\n",
              "</table><p>\n",
              "\n",
              "    <div>\n",
              "        <style>\n",
              "            /* Turns off some styling */\n",
              "            progress {\n",
              "                /* gets rid of default border in Firefox and Opera. */\n",
              "                border: none;\n",
              "                /* Needs to be in here for Safari polyfill so background images work as expected. */\n",
              "                background-size: auto;\n",
              "            }\n",
              "            .progress-bar-interrupted, .progress-bar-interrupted::-webkit-progress-bar {\n",
              "                background: #F44336;\n",
              "            }\n",
              "        </style>\n",
              "      <progress value='96' class='' max='174' style='width:300px; height:20px; vertical-align: middle;'></progress>\n",
              "      55.17% [96/174 01:17<01:03 2.2651]\n",
              "    </div>\n",
              "    "
            ],
            "text/plain": [
              "<IPython.core.display.HTML object>"
            ]
          },
          "metadata": {
            "tags": []
          }
        },
        {
          "output_type": "stream",
          "text": [
            "LR Finder is complete, type {learner_name}.recorder.plot() to see the graph.\n"
          ],
          "name": "stdout"
        }
      ]
    },
    {
      "cell_type": "code",
      "metadata": {
        "id": "iven1LcHTIV_",
        "colab_type": "code",
        "colab": {
          "base_uri": "https://localhost:8080/",
          "height": 316
        },
        "outputId": "51ad699c-0914-48a4-bdc0-e628cf978ca3"
      },
      "source": [
        "learn.recorder.plot(suggestion = True, skip_end = 8)"
      ],
      "execution_count": 68,
      "outputs": [
        {
          "output_type": "stream",
          "text": [
            "Min numerical gradient: 1.20E-01\n",
            "Min loss divided by 10: 3.63E-02\n"
          ],
          "name": "stdout"
        },
        {
          "output_type": "display_data",
          "data": {
            "image/png": "[encoded data removed]",
            "text/plain": [
              "<Figure size 432x288 with 1 Axes>"
            ]
          },
          "metadata": {
            "tags": [],
            "needs_background": "light"
          }
        }
      ]
    },
    {
      "cell_type": "code",
      "metadata": {
        "id": "D8BfPdFnTzVO",
        "colab_type": "code",
        "colab": {
          "base_uri": "https://localhost:8080/",
          "height": 35
        },
        "outputId": "7750d2ab-8e28-4785-a3c2-e64415fea0d5"
      },
      "source": [
        "min_grad_lr = learn.recorder.min_grad_lr\n",
        "min_grad_lr"
      ],
      "execution_count": 69,
      "outputs": [
        {
          "output_type": "execute_result",
          "data": {
            "text/plain": [
              "0.12022644346174131"
            ]
          },
          "metadata": {
            "tags": []
          },
          "execution_count": 69
        }
      ]
    },
    {
      "cell_type": "code",
      "metadata": {
        "id": "dfsc1zi_XMZv",
        "colab_type": "code",
        "colab": {
          "base_uri": "https://localhost:8080/",
          "height": 243
        },
        "outputId": "828e00e7-4dda-419b-ca68-ab5c6389b35f"
      },
      "source": [
        "learn.fit_one_cycle(5, min_grad_lr, moms=(0.8, 0.7), \n",
        "       callbacks=[SaveModelCallback(learn, every='improvement', monitor='valid_loss', name = 'best_fit_head_clas')])"
      ],
      "execution_count": 70,
      "outputs": [
        {
          "output_type": "display_data",
          "data": {
            "text/html": [
              "<table border=\"1\" class=\"dataframe\">\n",
              "  <thead>\n",
              "    <tr style=\"text-align: left;\">\n",
              "      <th>epoch</th>\n",
              "      <th>train_loss</th>\n",
              "      <th>valid_loss</th>\n",
              "      <th>accuracy</th>\n",
              "      <th>auroc</th>\n",
              "      <th>cpu used</th>\n",
              "      <th>peak</th>\n",
              "      <th>gpu used</th>\n",
              "      <th>peak</th>\n",
              "      <th>time</th>\n",
              "    </tr>\n",
              "  </thead>\n",
              "  <tbody>\n",
              "    <tr>\n",
              "      <td>0</td>\n",
              "      <td>0.205619</td>\n",
              "      <td>0.511786</td>\n",
              "      <td>0.848790</td>\n",
              "      <td>0.702425</td>\n",
              "      <td>15</td>\n",
              "      <td>15</td>\n",
              "      <td>100</td>\n",
              "      <td>3878</td>\n",
              "      <td>02:17</td>\n",
              "    </tr>\n",
              "    <tr>\n",
              "      <td>1</td>\n",
              "      <td>0.198300</td>\n",
              "      <td>0.745988</td>\n",
              "      <td>0.847656</td>\n",
              "      <td>0.676351</td>\n",
              "      <td>0</td>\n",
              "      <td>1</td>\n",
              "      <td>-198</td>\n",
              "      <td>5762</td>\n",
              "      <td>02:50</td>\n",
              "    </tr>\n",
              "    <tr>\n",
              "      <td>2</td>\n",
              "      <td>0.190545</td>\n",
              "      <td>0.467883</td>\n",
              "      <td>0.848664</td>\n",
              "      <td>0.784522</td>\n",
              "      <td>0</td>\n",
              "      <td>1</td>\n",
              "      <td>100</td>\n",
              "      <td>4450</td>\n",
              "      <td>02:47</td>\n",
              "    </tr>\n",
              "    <tr>\n",
              "      <td>3</td>\n",
              "      <td>0.178022</td>\n",
              "      <td>0.517978</td>\n",
              "      <td>0.846396</td>\n",
              "      <td>0.724765</td>\n",
              "      <td>10</td>\n",
              "      <td>10</td>\n",
              "      <td>74</td>\n",
              "      <td>4386</td>\n",
              "      <td>02:26</td>\n",
              "    </tr>\n",
              "    <tr>\n",
              "      <td>4</td>\n",
              "      <td>0.176811</td>\n",
              "      <td>0.498382</td>\n",
              "      <td>0.846648</td>\n",
              "      <td>0.732729</td>\n",
              "      <td>0</td>\n",
              "      <td>1</td>\n",
              "      <td>26</td>\n",
              "      <td>4830</td>\n",
              "      <td>02:49</td>\n",
              "    </tr>\n",
              "  </tbody>\n",
              "</table>"
            ],
            "text/plain": [
              "<IPython.core.display.HTML object>"
            ]
          },
          "metadata": {
            "tags": []
          }
        },
        {
          "output_type": "stream",
          "text": [
            "Better model found at epoch 0 with valid_loss value: 0.5117856860160828.\n",
            "Better model found at epoch 2 with valid_loss value: 0.46788257360458374.\n"
          ],
          "name": "stdout"
        }
      ]
    },
    {
      "cell_type": "code",
      "metadata": {
        "id": "GS8RbpzJeqUr",
        "colab_type": "code",
        "colab": {}
      },
      "source": [
        "learn.load(\"best_fit_head_clas\")"
      ],
      "execution_count": 0,
      "outputs": []
    },
    {
      "cell_type": "code",
      "metadata": {
        "id": "MYseLJW7e1Ov",
        "colab_type": "code",
        "colab": {
          "base_uri": "https://localhost:8080/",
          "height": 114
        },
        "outputId": "a9a38e5d-93c9-41cd-a7cb-0ac1681e35f9"
      },
      "source": [
        "learn.freeze_to(-2)\n",
        "learn.lr_find()"
      ],
      "execution_count": 72,
      "outputs": [
        {
          "output_type": "display_data",
          "data": {
            "text/html": [
              "\n",
              "    <div>\n",
              "        <style>\n",
              "            /* Turns off some styling */\n",
              "            progress {\n",
              "                /* gets rid of default border in Firefox and Opera. */\n",
              "                border: none;\n",
              "                /* Needs to be in here for Safari polyfill so background images work as expected. */\n",
              "                background-size: auto;\n",
              "            }\n",
              "            .progress-bar-interrupted, .progress-bar-interrupted::-webkit-progress-bar {\n",
              "                background: #F44336;\n",
              "            }\n",
              "        </style>\n",
              "      <progress value='0' class='' max='1' style='width:300px; height:20px; vertical-align: middle;'></progress>\n",
              "      0.00% [0/1 00:00<00:00]\n",
              "    </div>\n",
              "    \n",
              "<table border=\"1\" class=\"dataframe\">\n",
              "  <thead>\n",
              "    <tr style=\"text-align: left;\">\n",
              "      <th>epoch</th>\n",
              "      <th>train_loss</th>\n",
              "      <th>valid_loss</th>\n",
              "      <th>accuracy</th>\n",
              "      <th>auroc</th>\n",
              "      <th>cpu used</th>\n",
              "      <th>peak</th>\n",
              "      <th>gpu used</th>\n",
              "      <th>peak</th>\n",
              "      <th>time</th>\n",
              "    </tr>\n",
              "  </thead>\n",
              "  <tbody>\n",
              "  </tbody>\n",
              "</table><p>\n",
              "\n",
              "    <div>\n",
              "        <style>\n",
              "            /* Turns off some styling */\n",
              "            progress {\n",
              "                /* gets rid of default border in Firefox and Opera. */\n",
              "                border: none;\n",
              "                /* Needs to be in here for Safari polyfill so background images work as expected. */\n",
              "                background-size: auto;\n",
              "            }\n",
              "            .progress-bar-interrupted, .progress-bar-interrupted::-webkit-progress-bar {\n",
              "                background: #F44336;\n",
              "            }\n",
              "        </style>\n",
              "      <progress value='85' class='' max='174' style='width:300px; height:20px; vertical-align: middle;'></progress>\n",
              "      48.85% [85/174 01:06<01:09 0.2368]\n",
              "    </div>\n",
              "    "
            ],
            "text/plain": [
              "<IPython.core.display.HTML object>"
            ]
          },
          "metadata": {
            "tags": []
          }
        },
        {
          "output_type": "stream",
          "text": [
            "LR Finder is complete, type {learner_name}.recorder.plot() to see the graph.\n"
          ],
          "name": "stdout"
        }
      ]
    },
    {
      "cell_type": "code",
      "metadata": {
        "id": "FU8gZjy4fdVI",
        "colab_type": "code",
        "colab": {
          "base_uri": "https://localhost:8080/",
          "height": 316
        },
        "outputId": "d8b3862c-52ce-4c76-967f-7bb68f287995"
      },
      "source": [
        "learn.recorder.plot(suggestion = True)"
      ],
      "execution_count": 73,
      "outputs": [
        {
          "output_type": "stream",
          "text": [
            "Min numerical gradient: 1.91E-06\n",
            "Min loss divided by 10: 9.12E-08\n"
          ],
          "name": "stdout"
        },
        {
          "output_type": "display_data",
          "data": {
            "image/png": "[encoded data removed]",
            "text/plain": [
              "<Figure size 432x288 with 1 Axes>"
            ]
          },
          "metadata": {
            "tags": [],
            "needs_background": "light"
          }
        }
      ]
    },
    {
      "cell_type": "code",
      "metadata": {
        "id": "FNoaHNikfv81",
        "colab_type": "code",
        "colab": {
          "base_uri": "https://localhost:8080/",
          "height": 99
        },
        "outputId": "e3490e60-e7be-4dbe-d9ac-45e2612c1ba2"
      },
      "source": [
        "learn.fit_one_cycle(1, slice(1E-03/(2.6**4), 1E-03), moms=(0.8,0.7), \n",
        "                    callbacks=[SaveModelCallback(learn, every='improvement', monitor='auroc', name = 'best_fit_minus2_clas')])"
      ],
      "execution_count": 74,
      "outputs": [
        {
          "output_type": "display_data",
          "data": {
            "text/html": [
              "<table border=\"1\" class=\"dataframe\">\n",
              "  <thead>\n",
              "    <tr style=\"text-align: left;\">\n",
              "      <th>epoch</th>\n",
              "      <th>train_loss</th>\n",
              "      <th>valid_loss</th>\n",
              "      <th>accuracy</th>\n",
              "      <th>auroc</th>\n",
              "      <th>cpu used</th>\n",
              "      <th>peak</th>\n",
              "      <th>gpu used</th>\n",
              "      <th>peak</th>\n",
              "      <th>time</th>\n",
              "    </tr>\n",
              "  </thead>\n",
              "  <tbody>\n",
              "    <tr>\n",
              "      <td>0</td>\n",
              "      <td>0.171473</td>\n",
              "      <td>0.482210</td>\n",
              "      <td>0.852571</td>\n",
              "      <td>0.764541</td>\n",
              "      <td>10</td>\n",
              "      <td>10</td>\n",
              "      <td>-708</td>\n",
              "      <td>6832</td>\n",
              "      <td>03:00</td>\n",
              "    </tr>\n",
              "  </tbody>\n",
              "</table>"
            ],
            "text/plain": [
              "<IPython.core.display.HTML object>"
            ]
          },
          "metadata": {
            "tags": []
          }
        },
        {
          "output_type": "stream",
          "text": [
            "Better model found at epoch 0 with auroc value: 0.7645412683486938.\n"
          ],
          "name": "stdout"
        }
      ]
    },
    {
      "cell_type": "code",
      "metadata": {
        "id": "6rngn_vj_qKw",
        "colab_type": "code",
        "colab": {
          "base_uri": "https://localhost:8080/",
          "height": 99
        },
        "outputId": "a5d7f522-c0a7-4dd4-bacb-cadecd4c8579"
      },
      "source": [
        "learn.load(\"best_fit_head_clas\")\n",
        "learn.freeze_to(-2)\n",
        "learn.fit_one_cycle(1, slice(1E-02/(2.6**4), 1E-02), moms=(0.8,0.7), \n",
        "                    callbacks=[SaveModelCallback(learn, every='improvement', monitor='auroc', name = 'temp')])"
      ],
      "execution_count": 24,
      "outputs": [
        {
          "output_type": "display_data",
          "data": {
            "text/html": [
              "<table border=\"1\" class=\"dataframe\">\n",
              "  <thead>\n",
              "    <tr style=\"text-align: left;\">\n",
              "      <th>epoch</th>\n",
              "      <th>train_loss</th>\n",
              "      <th>valid_loss</th>\n",
              "      <th>accuracy</th>\n",
              "      <th>auroc</th>\n",
              "      <th>cpu used</th>\n",
              "      <th>peak</th>\n",
              "      <th>gpu used</th>\n",
              "      <th>peak</th>\n",
              "      <th>time</th>\n",
              "    </tr>\n",
              "  </thead>\n",
              "  <tbody>\n",
              "    <tr>\n",
              "      <td>0</td>\n",
              "      <td>0.167266</td>\n",
              "      <td>0.443023</td>\n",
              "      <td>0.845892</td>\n",
              "      <td>0.788450</td>\n",
              "      <td>0</td>\n",
              "      <td>1</td>\n",
              "      <td>814</td>\n",
              "      <td>5766</td>\n",
              "      <td>00:36</td>\n",
              "    </tr>\n",
              "  </tbody>\n",
              "</table>"
            ],
            "text/plain": [
              "<IPython.core.display.HTML object>"
            ]
          },
          "metadata": {
            "tags": []
          }
        },
        {
          "output_type": "stream",
          "text": [
            "Better model found at epoch 0 with auroc value: 0.7884501218795776.\n"
          ],
          "name": "stdout"
        }
      ]
    },
    {
      "cell_type": "code",
      "metadata": {
        "id": "9XfLK7bpJ8AO",
        "colab_type": "code",
        "colab": {
          "base_uri": "https://localhost:8080/",
          "height": 99
        },
        "outputId": "40bd41bc-dee0-41ce-99e4-4db5a57db788"
      },
      "source": [
        "learn.load(\"best_fit_head_clas\")\n",
        "learn.freeze_to(-2)\n",
        "learn.fit_one_cycle(1, slice(1E-04/(2.6**4), 1E-04), moms=(0.8,0.7), \n",
        "                    callbacks=[SaveModelCallback(learn, every='improvement', monitor='auroc', name = 'temp')])"
      ],
      "execution_count": 25,
      "outputs": [
        {
          "output_type": "display_data",
          "data": {
            "text/html": [
              "<table border=\"1\" class=\"dataframe\">\n",
              "  <thead>\n",
              "    <tr style=\"text-align: left;\">\n",
              "      <th>epoch</th>\n",
              "      <th>train_loss</th>\n",
              "      <th>valid_loss</th>\n",
              "      <th>accuracy</th>\n",
              "      <th>auroc</th>\n",
              "      <th>cpu used</th>\n",
              "      <th>peak</th>\n",
              "      <th>gpu used</th>\n",
              "      <th>peak</th>\n",
              "      <th>time</th>\n",
              "    </tr>\n",
              "  </thead>\n",
              "  <tbody>\n",
              "    <tr>\n",
              "      <td>0</td>\n",
              "      <td>0.180646</td>\n",
              "      <td>0.493090</td>\n",
              "      <td>0.847026</td>\n",
              "      <td>0.789196</td>\n",
              "      <td>0</td>\n",
              "      <td>1</td>\n",
              "      <td>74</td>\n",
              "      <td>6956</td>\n",
              "      <td>00:37</td>\n",
              "    </tr>\n",
              "  </tbody>\n",
              "</table>"
            ],
            "text/plain": [
              "<IPython.core.display.HTML object>"
            ]
          },
          "metadata": {
            "tags": []
          }
        },
        {
          "output_type": "stream",
          "text": [
            "Better model found at epoch 0 with auroc value: 0.7891958355903625.\n"
          ],
          "name": "stdout"
        }
      ]
    },
    {
      "cell_type": "code",
      "metadata": {
        "id": "dXPxkW7Iu_Gs",
        "colab_type": "code",
        "colab": {}
      },
      "source": [
        "learn.load(\"temp\")"
      ],
      "execution_count": 0,
      "outputs": []
    },
    {
      "cell_type": "code",
      "metadata": {
        "id": "w43kxmGcyDEP",
        "colab_type": "code",
        "colab": {}
      },
      "source": [
        ""
      ],
      "execution_count": 0,
      "outputs": []
    },
    {
      "cell_type": "code",
      "metadata": {
        "id": "xHQI9i5SwL1f",
        "colab_type": "code",
        "colab": {}
      },
      "source": [
        "learn.save('best_fit_minus2_clas')"
      ],
      "execution_count": 0,
      "outputs": []
    },
    {
      "cell_type": "code",
      "metadata": {
        "id": "-Y3vI9s7yxcc",
        "colab_type": "code",
        "colab": {}
      },
      "source": [
        "learn.load('best_fit_minus2_clas')"
      ],
      "execution_count": 0,
      "outputs": []
    },
    {
      "cell_type": "code",
      "metadata": {
        "id": "P0kH2e3iwc3Z",
        "colab_type": "code",
        "colab": {}
      },
      "source": [
        "learn.freeze_to(-3)"
      ],
      "execution_count": 0,
      "outputs": []
    },
    {
      "cell_type": "code",
      "metadata": {
        "id": "WoVTYWBcwhDN",
        "colab_type": "code",
        "colab": {
          "base_uri": "https://localhost:8080/",
          "height": 114
        },
        "outputId": "7fff546a-da6b-4523-ae9b-098b0ecde83a"
      },
      "source": [
        "learn.lr_find()"
      ],
      "execution_count": 36,
      "outputs": [
        {
          "output_type": "display_data",
          "data": {
            "text/html": [
              "\n",
              "    <div>\n",
              "        <style>\n",
              "            /* Turns off some styling */\n",
              "            progress {\n",
              "                /* gets rid of default border in Firefox and Opera. */\n",
              "                border: none;\n",
              "                /* Needs to be in here for Safari polyfill so background images work as expected. */\n",
              "                background-size: auto;\n",
              "            }\n",
              "            .progress-bar-interrupted, .progress-bar-interrupted::-webkit-progress-bar {\n",
              "                background: #F44336;\n",
              "            }\n",
              "        </style>\n",
              "      <progress value='0' class='' max='1' style='width:300px; height:20px; vertical-align: middle;'></progress>\n",
              "      0.00% [0/1 00:00<00:00]\n",
              "    </div>\n",
              "    \n",
              "<table border=\"1\" class=\"dataframe\">\n",
              "  <thead>\n",
              "    <tr style=\"text-align: left;\">\n",
              "      <th>epoch</th>\n",
              "      <th>train_loss</th>\n",
              "      <th>valid_loss</th>\n",
              "      <th>accuracy</th>\n",
              "      <th>auroc</th>\n",
              "      <th>cpu used</th>\n",
              "      <th>peak</th>\n",
              "      <th>gpu used</th>\n",
              "      <th>peak</th>\n",
              "      <th>time</th>\n",
              "    </tr>\n",
              "  </thead>\n",
              "  <tbody>\n",
              "  </tbody>\n",
              "</table><p>\n",
              "\n",
              "    <div>\n",
              "        <style>\n",
              "            /* Turns off some styling */\n",
              "            progress {\n",
              "                /* gets rid of default border in Firefox and Opera. */\n",
              "                border: none;\n",
              "                /* Needs to be in here for Safari polyfill so background images work as expected. */\n",
              "                background-size: auto;\n",
              "            }\n",
              "            .progress-bar-interrupted, .progress-bar-interrupted::-webkit-progress-bar {\n",
              "                background: #F44336;\n",
              "            }\n",
              "        </style>\n",
              "      <progress value='85' class='' max='174' style='width:300px; height:20px; vertical-align: middle;'></progress>\n",
              "      48.85% [85/174 00:19<00:20 0.3723]\n",
              "    </div>\n",
              "    "
            ],
            "text/plain": [
              "<IPython.core.display.HTML object>"
            ]
          },
          "metadata": {
            "tags": []
          }
        },
        {
          "output_type": "stream",
          "text": [
            "LR Finder is complete, type {learner_name}.recorder.plot() to see the graph.\n"
          ],
          "name": "stdout"
        }
      ]
    },
    {
      "cell_type": "code",
      "metadata": {
        "id": "Hk-6q2Fqwxwh",
        "colab_type": "code",
        "colab": {
          "base_uri": "https://localhost:8080/",
          "height": 316
        },
        "outputId": "e74cb3b4-99c7-438b-a566-925e6628fe04"
      },
      "source": [
        "learn.recorder.plot(suggestion = True)"
      ],
      "execution_count": 37,
      "outputs": [
        {
          "output_type": "stream",
          "text": [
            "Min numerical gradient: 8.32E-06\n",
            "Min loss divided by 10: 1.10E-07\n"
          ],
          "name": "stdout"
        },
        {
          "output_type": "display_data",
          "data": {
            "image/png": "[encoded data removed]",
            "text/plain": [
              "<Figure size 432x288 with 1 Axes>"
            ]
          },
          "metadata": {
            "tags": [],
            "needs_background": "light"
          }
        }
      ]
    },
    {
      "cell_type": "code",
      "metadata": {
        "id": "ga9-c8DMxCHv",
        "colab_type": "code",
        "colab": {
          "base_uri": "https://localhost:8080/",
          "height": 99
        },
        "outputId": "39434a02-7aca-406c-9700-1d6bdc1fca64"
      },
      "source": [
        "learn.fit_one_cycle(1, slice(1E-02/(2.6**4), 1E-02), moms=(0.8,0.7), \n",
        "                    callbacks=[SaveModelCallback(learn, every='improvement', monitor='auroc', name = 'temp')])"
      ],
      "execution_count": 38,
      "outputs": [
        {
          "output_type": "display_data",
          "data": {
            "text/html": [
              "<table border=\"1\" class=\"dataframe\">\n",
              "  <thead>\n",
              "    <tr style=\"text-align: left;\">\n",
              "      <th>epoch</th>\n",
              "      <th>train_loss</th>\n",
              "      <th>valid_loss</th>\n",
              "      <th>accuracy</th>\n",
              "      <th>auroc</th>\n",
              "      <th>cpu used</th>\n",
              "      <th>peak</th>\n",
              "      <th>gpu used</th>\n",
              "      <th>peak</th>\n",
              "      <th>time</th>\n",
              "    </tr>\n",
              "  </thead>\n",
              "  <tbody>\n",
              "    <tr>\n",
              "      <td>0</td>\n",
              "      <td>0.159772</td>\n",
              "      <td>0.437000</td>\n",
              "      <td>0.849546</td>\n",
              "      <td>0.804755</td>\n",
              "      <td>5</td>\n",
              "      <td>5</td>\n",
              "      <td>200</td>\n",
              "      <td>7886</td>\n",
              "      <td>01:01</td>\n",
              "    </tr>\n",
              "  </tbody>\n",
              "</table>"
            ],
            "text/plain": [
              "<IPython.core.display.HTML object>"
            ]
          },
          "metadata": {
            "tags": []
          }
        },
        {
          "output_type": "stream",
          "text": [
            "Better model found at epoch 0 with auroc value: 0.8047545552253723.\n"
          ],
          "name": "stdout"
        }
      ]
    },
    {
      "cell_type": "code",
      "metadata": {
        "id": "Gg6ETNLbxO0B",
        "colab_type": "code",
        "colab": {
          "base_uri": "https://localhost:8080/",
          "height": 99
        },
        "outputId": "84ceb123-607d-4058-b5ca-52afc871a761"
      },
      "source": [
        "learn.load(\"best_fit_minus2_clas\")\n",
        "learn.freeze_to(-3)\n",
        "learn.fit_one_cycle(1, slice(4E-03/(2.6**4), 4E-03), moms=(0.8,0.7), \n",
        "                    callbacks=[SaveModelCallback(learn, every='improvement', monitor='auroc', name = 'temp1')])"
      ],
      "execution_count": 39,
      "outputs": [
        {
          "output_type": "display_data",
          "data": {
            "text/html": [
              "<table border=\"1\" class=\"dataframe\">\n",
              "  <thead>\n",
              "    <tr style=\"text-align: left;\">\n",
              "      <th>epoch</th>\n",
              "      <th>train_loss</th>\n",
              "      <th>valid_loss</th>\n",
              "      <th>accuracy</th>\n",
              "      <th>auroc</th>\n",
              "      <th>cpu used</th>\n",
              "      <th>peak</th>\n",
              "      <th>gpu used</th>\n",
              "      <th>peak</th>\n",
              "      <th>time</th>\n",
              "    </tr>\n",
              "  </thead>\n",
              "  <tbody>\n",
              "    <tr>\n",
              "      <td>0</td>\n",
              "      <td>0.164964</td>\n",
              "      <td>0.468667</td>\n",
              "      <td>0.850050</td>\n",
              "      <td>0.771403</td>\n",
              "      <td>10</td>\n",
              "      <td>10</td>\n",
              "      <td>540</td>\n",
              "      <td>7646</td>\n",
              "      <td>00:54</td>\n",
              "    </tr>\n",
              "  </tbody>\n",
              "</table>"
            ],
            "text/plain": [
              "<IPython.core.display.HTML object>"
            ]
          },
          "metadata": {
            "tags": []
          }
        },
        {
          "output_type": "stream",
          "text": [
            "Better model found at epoch 0 with auroc value: 0.7714028358459473.\n"
          ],
          "name": "stdout"
        }
      ]
    },
    {
      "cell_type": "code",
      "metadata": {
        "id": "VXh3Q2guz7Oy",
        "colab_type": "code",
        "colab": {
          "base_uri": "https://localhost:8080/",
          "height": 99
        },
        "outputId": "24567639-64d4-470a-cc51-a4059384d592"
      },
      "source": [
        "learn.load(\"best_fit_minus2_clas\")\n",
        "learn.freeze_to(-3)\n",
        "learn.fit_one_cycle(1, slice(5E-02/(2.6**4), 5E-02), moms=(0.8,0.7), \n",
        "                    callbacks=[SaveModelCallback(learn, every='improvement', monitor='auroc', name = 'temp1')])"
      ],
      "execution_count": 40,
      "outputs": [
        {
          "output_type": "display_data",
          "data": {
            "text/html": [
              "<table border=\"1\" class=\"dataframe\">\n",
              "  <thead>\n",
              "    <tr style=\"text-align: left;\">\n",
              "      <th>epoch</th>\n",
              "      <th>train_loss</th>\n",
              "      <th>valid_loss</th>\n",
              "      <th>accuracy</th>\n",
              "      <th>auroc</th>\n",
              "      <th>cpu used</th>\n",
              "      <th>peak</th>\n",
              "      <th>gpu used</th>\n",
              "      <th>peak</th>\n",
              "      <th>time</th>\n",
              "    </tr>\n",
              "  </thead>\n",
              "  <tbody>\n",
              "    <tr>\n",
              "      <td>0</td>\n",
              "      <td>0.156452</td>\n",
              "      <td>0.455121</td>\n",
              "      <td>0.849672</td>\n",
              "      <td>0.828002</td>\n",
              "      <td>0</td>\n",
              "      <td>1</td>\n",
              "      <td>216</td>\n",
              "      <td>8114</td>\n",
              "      <td>01:02</td>\n",
              "    </tr>\n",
              "  </tbody>\n",
              "</table>"
            ],
            "text/plain": [
              "<IPython.core.display.HTML object>"
            ]
          },
          "metadata": {
            "tags": []
          }
        },
        {
          "output_type": "stream",
          "text": [
            "Better model found at epoch 0 with auroc value: 0.8280023336410522.\n"
          ],
          "name": "stdout"
        }
      ]
    },
    {
      "cell_type": "code",
      "metadata": {
        "id": "woFylGG50qaP",
        "colab_type": "code",
        "colab": {}
      },
      "source": [
        "learn.save(\"best_fit_minus3_clas\")"
      ],
      "execution_count": 0,
      "outputs": []
    },
    {
      "cell_type": "code",
      "metadata": {
        "id": "ObP9HgNW0-hu",
        "colab_type": "code",
        "colab": {}
      },
      "source": [
        "learn.load(\"best_fit_minus3_clas\")"
      ],
      "execution_count": 0,
      "outputs": []
    },
    {
      "cell_type": "code",
      "metadata": {
        "id": "DQknlN3t1KQB",
        "colab_type": "code",
        "colab": {
          "base_uri": "https://localhost:8080/",
          "height": 114
        },
        "outputId": "b4536649-ecc6-423d-b649-a92050b4c494"
      },
      "source": [
        "learn.unfreeze()\n",
        "learn.lr_find()"
      ],
      "execution_count": 43,
      "outputs": [
        {
          "output_type": "display_data",
          "data": {
            "text/html": [
              "\n",
              "    <div>\n",
              "        <style>\n",
              "            /* Turns off some styling */\n",
              "            progress {\n",
              "                /* gets rid of default border in Firefox and Opera. */\n",
              "                border: none;\n",
              "                /* Needs to be in here for Safari polyfill so background images work as expected. */\n",
              "                background-size: auto;\n",
              "            }\n",
              "            .progress-bar-interrupted, .progress-bar-interrupted::-webkit-progress-bar {\n",
              "                background: #F44336;\n",
              "            }\n",
              "        </style>\n",
              "      <progress value='0' class='' max='1' style='width:300px; height:20px; vertical-align: middle;'></progress>\n",
              "      0.00% [0/1 00:00<00:00]\n",
              "    </div>\n",
              "    \n",
              "<table border=\"1\" class=\"dataframe\">\n",
              "  <thead>\n",
              "    <tr style=\"text-align: left;\">\n",
              "      <th>epoch</th>\n",
              "      <th>train_loss</th>\n",
              "      <th>valid_loss</th>\n",
              "      <th>accuracy</th>\n",
              "      <th>auroc</th>\n",
              "      <th>cpu used</th>\n",
              "      <th>peak</th>\n",
              "      <th>gpu used</th>\n",
              "      <th>peak</th>\n",
              "      <th>time</th>\n",
              "    </tr>\n",
              "  </thead>\n",
              "  <tbody>\n",
              "  </tbody>\n",
              "</table><p>\n",
              "\n",
              "    <div>\n",
              "        <style>\n",
              "            /* Turns off some styling */\n",
              "            progress {\n",
              "                /* gets rid of default border in Firefox and Opera. */\n",
              "                border: none;\n",
              "                /* Needs to be in here for Safari polyfill so background images work as expected. */\n",
              "                background-size: auto;\n",
              "            }\n",
              "            .progress-bar-interrupted, .progress-bar-interrupted::-webkit-progress-bar {\n",
              "                background: #F44336;\n",
              "            }\n",
              "        </style>\n",
              "      <progress value='84' class='' max='174' style='width:300px; height:20px; vertical-align: middle;'></progress>\n",
              "      48.28% [84/174 00:33<00:35 0.2676]\n",
              "    </div>\n",
              "    "
            ],
            "text/plain": [
              "<IPython.core.display.HTML object>"
            ]
          },
          "metadata": {
            "tags": []
          }
        },
        {
          "output_type": "stream",
          "text": [
            "LR Finder is complete, type {learner_name}.recorder.plot() to see the graph.\n"
          ],
          "name": "stdout"
        }
      ]
    },
    {
      "cell_type": "code",
      "metadata": {
        "id": "XcVSTQiO1lxT",
        "colab_type": "code",
        "colab": {
          "base_uri": "https://localhost:8080/",
          "height": 316
        },
        "outputId": "dde8be8d-6974-4011-9eb6-7157a190db38"
      },
      "source": [
        "learn.recorder.plot(suggestion = True)"
      ],
      "execution_count": 44,
      "outputs": [
        {
          "output_type": "stream",
          "text": [
            "Min numerical gradient: 4.79E-06\n",
            "Min loss divided by 10: 6.31E-08\n"
          ],
          "name": "stdout"
        },
        {
          "output_type": "display_data",
          "data": {
            "image/png": "[encoded data removed]",
            "text/plain": [
              "<Figure size 432x288 with 1 Axes>"
            ]
          },
          "metadata": {
            "tags": [],
            "needs_background": "light"
          }
        }
      ]
    },
    {
      "cell_type": "code",
      "metadata": {
        "id": "S5aAhT9N1xw3",
        "colab_type": "code",
        "colab": {
          "base_uri": "https://localhost:8080/",
          "height": 193
        },
        "outputId": "23cbc7d9-14a8-4070-de2b-dedb077e6f60"
      },
      "source": [
        "learn.fit_one_cycle(4, slice(2E-03/(2.6**4), 2E-03), moms=(0.8,0.7), \n",
        "                    callbacks=[SaveModelCallback(learn, every='improvement', monitor='auroc', name = 'temp')])"
      ],
      "execution_count": 45,
      "outputs": [
        {
          "output_type": "display_data",
          "data": {
            "text/html": [
              "<table border=\"1\" class=\"dataframe\">\n",
              "  <thead>\n",
              "    <tr style=\"text-align: left;\">\n",
              "      <th>epoch</th>\n",
              "      <th>train_loss</th>\n",
              "      <th>valid_loss</th>\n",
              "      <th>accuracy</th>\n",
              "      <th>auroc</th>\n",
              "      <th>cpu used</th>\n",
              "      <th>peak</th>\n",
              "      <th>gpu used</th>\n",
              "      <th>peak</th>\n",
              "      <th>time</th>\n",
              "    </tr>\n",
              "  </thead>\n",
              "  <tbody>\n",
              "    <tr>\n",
              "      <td>0</td>\n",
              "      <td>0.119364</td>\n",
              "      <td>0.501961</td>\n",
              "      <td>0.848790</td>\n",
              "      <td>0.773473</td>\n",
              "      <td>0</td>\n",
              "      <td>1</td>\n",
              "      <td>184</td>\n",
              "      <td>11802</td>\n",
              "      <td>01:18</td>\n",
              "    </tr>\n",
              "    <tr>\n",
              "      <td>1</td>\n",
              "      <td>0.098904</td>\n",
              "      <td>0.609254</td>\n",
              "      <td>0.848034</td>\n",
              "      <td>0.745252</td>\n",
              "      <td>10</td>\n",
              "      <td>11</td>\n",
              "      <td>-58</td>\n",
              "      <td>11696</td>\n",
              "      <td>01:10</td>\n",
              "    </tr>\n",
              "    <tr>\n",
              "      <td>2</td>\n",
              "      <td>0.076777</td>\n",
              "      <td>0.725421</td>\n",
              "      <td>0.850050</td>\n",
              "      <td>0.728242</td>\n",
              "      <td>0</td>\n",
              "      <td>1</td>\n",
              "      <td>144</td>\n",
              "      <td>10906</td>\n",
              "      <td>01:05</td>\n",
              "    </tr>\n",
              "    <tr>\n",
              "      <td>3</td>\n",
              "      <td>0.054845</td>\n",
              "      <td>0.814441</td>\n",
              "      <td>0.849672</td>\n",
              "      <td>0.685794</td>\n",
              "      <td>15</td>\n",
              "      <td>15</td>\n",
              "      <td>-204</td>\n",
              "      <td>10772</td>\n",
              "      <td>01:12</td>\n",
              "    </tr>\n",
              "  </tbody>\n",
              "</table>"
            ],
            "text/plain": [
              "<IPython.core.display.HTML object>"
            ]
          },
          "metadata": {
            "tags": []
          }
        },
        {
          "output_type": "stream",
          "text": [
            "Better model found at epoch 0 with auroc value: 0.7734732627868652.\n"
          ],
          "name": "stdout"
        }
      ]
    },
    {
      "cell_type": "code",
      "metadata": {
        "id": "glkrHRI-3eiW",
        "colab_type": "code",
        "colab": {
          "base_uri": "https://localhost:8080/",
          "height": 279
        },
        "outputId": "31a6cf42-d873-4898-e48b-952d8f7755e3"
      },
      "source": [
        "#overfitting\n",
        "learn.recorder.plot_losses()"
      ],
      "execution_count": 46,
      "outputs": [
        {
          "output_type": "display_data",
          "data": {
            "image/png": "[encoded data removed]",
            "text/plain": [
              "<Figure size 432x288 with 1 Axes>"
            ]
          },
          "metadata": {
            "tags": [],
            "needs_background": "light"
          }
        }
      ]
    },
    {
      "cell_type": "code",
      "metadata": {
        "id": "VCgxpaoP3BtU",
        "colab_type": "code",
        "colab": {
          "base_uri": "https://localhost:8080/",
          "height": 130
        },
        "outputId": "4d9a5830-bbd4-4bd8-8ac6-22e5c74a01a8"
      },
      "source": [
        "learn.load(\"best_fit_minus3_clas\")\n",
        "learn.unfreeze()\n",
        "learn.fit_one_cycle(2, slice(2E-03/(2.6**4), 2E-03), moms=(0.8,0.7), \n",
        "                    callbacks=[SaveModelCallback(learn, every='improvement', monitor='auroc', name = 'temp')])"
      ],
      "execution_count": 47,
      "outputs": [
        {
          "output_type": "display_data",
          "data": {
            "text/html": [
              "<table border=\"1\" class=\"dataframe\">\n",
              "  <thead>\n",
              "    <tr style=\"text-align: left;\">\n",
              "      <th>epoch</th>\n",
              "      <th>train_loss</th>\n",
              "      <th>valid_loss</th>\n",
              "      <th>accuracy</th>\n",
              "      <th>auroc</th>\n",
              "      <th>cpu used</th>\n",
              "      <th>peak</th>\n",
              "      <th>gpu used</th>\n",
              "      <th>peak</th>\n",
              "      <th>time</th>\n",
              "    </tr>\n",
              "  </thead>\n",
              "  <tbody>\n",
              "    <tr>\n",
              "      <td>0</td>\n",
              "      <td>0.116042</td>\n",
              "      <td>0.538645</td>\n",
              "      <td>0.851941</td>\n",
              "      <td>0.816550</td>\n",
              "      <td>0</td>\n",
              "      <td>1</td>\n",
              "      <td>574</td>\n",
              "      <td>10914</td>\n",
              "      <td>01:02</td>\n",
              "    </tr>\n",
              "    <tr>\n",
              "      <td>1</td>\n",
              "      <td>0.105253</td>\n",
              "      <td>0.509376</td>\n",
              "      <td>0.851562</td>\n",
              "      <td>0.805286</td>\n",
              "      <td>0</td>\n",
              "      <td>1</td>\n",
              "      <td>0</td>\n",
              "      <td>12248</td>\n",
              "      <td>01:20</td>\n",
              "    </tr>\n",
              "  </tbody>\n",
              "</table>"
            ],
            "text/plain": [
              "<IPython.core.display.HTML object>"
            ]
          },
          "metadata": {
            "tags": []
          }
        },
        {
          "output_type": "stream",
          "text": [
            "Better model found at epoch 0 with auroc value: 0.8165495991706848.\n"
          ],
          "name": "stdout"
        }
      ]
    },
    {
      "cell_type": "code",
      "metadata": {
        "id": "t4oY-4XS4R1B",
        "colab_type": "code",
        "colab": {
          "base_uri": "https://localhost:8080/",
          "height": 130
        },
        "outputId": "8ef034c6-29e9-4775-e218-56569d84e8b7"
      },
      "source": [
        "learn.load(\"best_fit_minus3_clas\")\n",
        "learn.unfreeze()\n",
        "learn.fit_one_cycle(2, slice(2E-04, 2E-03), moms=(0.8,0.7), \n",
        "                    callbacks=[SaveModelCallback(learn, every='improvement', monitor='auroc', name = 'temp1')])"
      ],
      "execution_count": 48,
      "outputs": [
        {
          "output_type": "display_data",
          "data": {
            "text/html": [
              "<table border=\"1\" class=\"dataframe\">\n",
              "  <thead>\n",
              "    <tr style=\"text-align: left;\">\n",
              "      <th>epoch</th>\n",
              "      <th>train_loss</th>\n",
              "      <th>valid_loss</th>\n",
              "      <th>accuracy</th>\n",
              "      <th>auroc</th>\n",
              "      <th>cpu used</th>\n",
              "      <th>peak</th>\n",
              "      <th>gpu used</th>\n",
              "      <th>peak</th>\n",
              "      <th>time</th>\n",
              "    </tr>\n",
              "  </thead>\n",
              "  <tbody>\n",
              "    <tr>\n",
              "      <td>0</td>\n",
              "      <td>0.115827</td>\n",
              "      <td>0.499359</td>\n",
              "      <td>0.850680</td>\n",
              "      <td>0.810328</td>\n",
              "      <td>10</td>\n",
              "      <td>10</td>\n",
              "      <td>530</td>\n",
              "      <td>11058</td>\n",
              "      <td>01:08</td>\n",
              "    </tr>\n",
              "    <tr>\n",
              "      <td>1</td>\n",
              "      <td>0.093512</td>\n",
              "      <td>0.511229</td>\n",
              "      <td>0.851184</td>\n",
              "      <td>0.799039</td>\n",
              "      <td>0</td>\n",
              "      <td>1</td>\n",
              "      <td>-80</td>\n",
              "      <td>12132</td>\n",
              "      <td>01:16</td>\n",
              "    </tr>\n",
              "  </tbody>\n",
              "</table>"
            ],
            "text/plain": [
              "<IPython.core.display.HTML object>"
            ]
          },
          "metadata": {
            "tags": []
          }
        },
        {
          "output_type": "stream",
          "text": [
            "Better model found at epoch 0 with auroc value: 0.8103277683258057.\n"
          ],
          "name": "stdout"
        }
      ]
    },
    {
      "cell_type": "code",
      "metadata": {
        "id": "LyhAXucA5EZJ",
        "colab_type": "code",
        "colab": {}
      },
      "source": [
        "learn.load(\"temp\")"
      ],
      "execution_count": 0,
      "outputs": []
    },
    {
      "cell_type": "code",
      "metadata": {
        "id": "lNUjxgh-5RDv",
        "colab_type": "code",
        "colab": {}
      },
      "source": [
        "learn.save(\"best_clas_fine_tuned\")"
      ],
      "execution_count": 0,
      "outputs": []
    },
    {
      "cell_type": "code",
      "metadata": {
        "id": "ODZqTudAzqoE",
        "colab_type": "code",
        "colab": {}
      },
      "source": [
        "'''\n",
        "from sklearn.model_selection import StratifiedShuffleSplit\n",
        "sss = StratifiedShuffleSplit(n_splits=1, test_size=0.1, random_state=0)\n",
        "for _, test_index in sss.split(train_df, train_df.toxic):\n",
        "  sample_df = train_df.loc[test_index]\n",
        "print(train_df.toxic.value_counts())\n",
        "print(sample_df.toxic.value_counts())\n",
        "sample_df.to_csv(path_in/\"sample_train.csv\", index = False)\n",
        "df = pd.read_csv(path_in/\"sample_train.csv\")\n",
        "df.head()\n",
        "'''"
      ],
      "execution_count": 0,
      "outputs": []
    },
    {
      "cell_type": "code",
      "metadata": {
        "id": "SGWB5si01_Nd",
        "colab_type": "code",
        "colab": {
          "base_uri": "https://localhost:8080/",
          "height": 35
        },
        "outputId": "fbde6c58-d6a1-49ea-faa5-9da433ea6164"
      },
      "source": [
        "len(sample_df)"
      ],
      "execution_count": 36,
      "outputs": [
        {
          "output_type": "execute_result",
          "data": {
            "text/plain": [
              "22355"
            ]
          },
          "metadata": {
            "tags": []
          },
          "execution_count": 36
        }
      ]
    },
    {
      "cell_type": "code",
      "metadata": {
        "id": "L1EzS1XS2CTb",
        "colab_type": "code",
        "colab": {
          "base_uri": "https://localhost:8080/",
          "height": 128
        },
        "outputId": "e11af60f-2cf1-4048-f664-632e0fdd9621"
      },
      "source": [
        "print(train_df.toxic.value_counts())\n",
        "print(sample_df.toxic.value_counts())"
      ],
      "execution_count": 37,
      "outputs": [
        {
          "output_type": "stream",
          "text": [
            "0    202165\n",
            "1     21384\n",
            "Name: toxic, dtype: int64\n",
            "0    20217\n",
            "1     2138\n",
            "Name: toxic, dtype: int64\n"
          ],
          "name": "stdout"
        }
      ]
    },
    {
      "cell_type": "code",
      "metadata": {
        "id": "gB8MxtQg3Wky",
        "colab_type": "code",
        "colab": {
          "base_uri": "https://localhost:8080/",
          "height": 206
        },
        "outputId": "711f2939-3c18-4c09-d686-ab8fcc63f7bf"
      },
      "source": [
        "df = pd.read_csv(path_in/\"sample_train.csv\")\n",
        "df.head()"
      ],
      "execution_count": 40,
      "outputs": [
        {
          "output_type": "execute_result",
          "data": {
            "text/html": [
              "<div>\n",
              "<style scoped>\n",
              "    .dataframe tbody tr th:only-of-type {\n",
              "        vertical-align: middle;\n",
              "    }\n",
              "\n",
              "    .dataframe tbody tr th {\n",
              "        vertical-align: top;\n",
              "    }\n",
              "\n",
              "    .dataframe thead th {\n",
              "        text-align: right;\n",
              "    }\n",
              "</style>\n",
              "<table border=\"1\" class=\"dataframe\">\n",
              "  <thead>\n",
              "    <tr style=\"text-align: right;\">\n",
              "      <th></th>\n",
              "      <th>id</th>\n",
              "      <th>comment_text</th>\n",
              "      <th>toxic</th>\n",
              "      <th>severe_toxic</th>\n",
              "      <th>obscene</th>\n",
              "      <th>threat</th>\n",
              "      <th>insult</th>\n",
              "      <th>identity_hate</th>\n",
              "    </tr>\n",
              "  </thead>\n",
              "  <tbody>\n",
              "    <tr>\n",
              "      <th>0</th>\n",
              "      <td>0a09f916ce6e77ce</td>\n",
              "      <td>\", 22 January 2011 (UTC) \\n :::::BLP?  In any ...</td>\n",
              "      <td>0</td>\n",
              "      <td>0</td>\n",
              "      <td>0</td>\n",
              "      <td>0</td>\n",
              "      <td>0</td>\n",
              "      <td>0</td>\n",
              "    </tr>\n",
              "    <tr>\n",
              "      <th>1</th>\n",
              "      <td>c27b11ee01f9769d</td>\n",
              "      <td>You DL the videos from here actually.. http://...</td>\n",
              "      <td>0</td>\n",
              "      <td>0</td>\n",
              "      <td>0</td>\n",
              "      <td>0</td>\n",
              "      <td>0</td>\n",
              "      <td>0</td>\n",
              "    </tr>\n",
              "    <tr>\n",
              "      <th>2</th>\n",
              "      <td>388e696b7672dc8c</td>\n",
              "      <td>::You're a troll. Delete away.</td>\n",
              "      <td>0</td>\n",
              "      <td>0</td>\n",
              "      <td>0</td>\n",
              "      <td>0</td>\n",
              "      <td>1</td>\n",
              "      <td>0</td>\n",
              "    </tr>\n",
              "    <tr>\n",
              "      <th>3</th>\n",
              "      <td>90b401755e15f325</td>\n",
              "      <td>\" \\n\\n  Please do not vandalize pages, as you ...</td>\n",
              "      <td>0</td>\n",
              "      <td>0</td>\n",
              "      <td>0</td>\n",
              "      <td>0</td>\n",
              "      <td>0</td>\n",
              "      <td>0</td>\n",
              "    </tr>\n",
              "    <tr>\n",
              "      <th>4</th>\n",
              "      <td>ee66e5bc910e5a36</td>\n",
              "      <td>I reckon there is an argument for it  - it is ...</td>\n",
              "      <td>0</td>\n",
              "      <td>0</td>\n",
              "      <td>0</td>\n",
              "      <td>0</td>\n",
              "      <td>0</td>\n",
              "      <td>0</td>\n",
              "    </tr>\n",
              "  </tbody>\n",
              "</table>\n",
              "</div>"
            ],
            "text/plain": [
              "                 id  ... identity_hate\n",
              "0  0a09f916ce6e77ce  ...             0\n",
              "1  c27b11ee01f9769d  ...             0\n",
              "2  388e696b7672dc8c  ...             0\n",
              "3  90b401755e15f325  ...             0\n",
              "4  ee66e5bc910e5a36  ...             0\n",
              "\n",
              "[5 rows x 8 columns]"
            ]
          },
          "metadata": {
            "tags": []
          },
          "execution_count": 40
        }
      ]
    }
  ]
}